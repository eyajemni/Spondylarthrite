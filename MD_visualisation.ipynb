{
 "cells": [
  {
   "cell_type": "markdown",
   "metadata": {},
   "source": [
    "## **Visualisation of inertial sensor data (IMU - Xsens)**\n",
    "\n",
    "### *General objective : Display an animation (3D) of the sketelon during time (image per image)*\n",
    "\n",
    "--- \n",
    "\n",
    "#### Structure of the code to manipulate the data\n",
    "**1. 1st Step - Import the necessary libraries**"
   ]
  },
  {
   "cell_type": "markdown",
   "metadata": {},
   "source": [
    "Import the following libraries :\n",
    "- pandas (pd)\n",
    "- numpy (np)\n",
    "- matplotlib.pyplot (plt)\n",
    "- plotly.graph_objects (go)\n",
    "- plotly.express (px)"
   ]
  },
  {
   "cell_type": "markdown",
   "metadata": {},
   "source": [
    "---\n",
    "\n",
    "**2. 2nd step - Read the file**\n",
    "\n",
    "The file consists of timeseries of joint position (X/ Y/ Z) in an Excel format (.xlsx). Where each line is an image.\n",
    "\n",
    "*But what is the time delay between 2 images ?*\n",
    "\n",
    "\n"
   ]
  },
  {
   "cell_type": "markdown",
   "metadata": {},
   "source": [
    "---\n",
    "\n",
    "**3. 3rd step - Create a dataframe**\n",
    "\n",
    "\n"
   ]
  },
  {
   "cell_type": "markdown",
   "metadata": {},
   "source": [
    "---\n",
    "\n",
    "**4. 4th step - Plot a 2D figure**\n",
    "\n",
    "[https://plotly.com/python/line-charts/]\n",
    "\n",
    "Display the movement of the Pelvis (for example) during time.\n",
    "Regroup the 3 axis (X,Y and Z) in one point.\n",
    "\n",
    "\n"
   ]
  },
  {
   "cell_type": "markdown",
   "metadata": {},
   "source": [
    "---\n",
    "\n",
    "**5. 5th step - Plot a 3D fugure**\n",
    "\n",
    "[https://plotly.com/python/3d-axes/]\n",
    "\n",
    "\n",
    "\n"
   ]
  },
  {
   "cell_type": "markdown",
   "metadata": {},
   "source": [
    "---\n",
    "\n",
    "**6. 6th step - Add a slider controller for the figure**\n",
    "\n",
    "[https://plotly.com/python/sliders/]\n",
    "\n",
    "\n"
   ]
  },
  {
   "cell_type": "markdown",
   "metadata": {},
   "source": [
    "**7. 6bis - Turn the figure into an animation**\n",
    "\n",
    "[https://plotly.com/python/animations/]"
   ]
  },
  {
   "cell_type": "markdown",
   "metadata": {},
   "source": [
    "---\n",
    "\n",
    "**8. 7th step - Save the animation**\n",
    "\n"
   ]
  },
  {
   "cell_type": "markdown",
   "metadata": {},
   "source": [
    "---\n",
    "\n",
    "#### **Other methodes - Online Library**\n",
    "\n",
    "Open source for making the same thing :\n",
    "\n",
    "* [http://work.thaslwanter.at/skinematics/html/] or [https://github.com/thomas-haslwanter/scikit-kinematics]\n",
    "  * scikit-kinematics is a library for scientific data analysis, with a focus on 3d kinematics.\n",
    "* [https://simtk-confluence.stanford.edu:8443/display/OpenSim/OpenSense+-+Kinematics+with+IMU+Data]\n",
    "  * OpenSense is a new workflow for analyzing movement with inertial measurement unit (IMU) data.\n",
    "* [https://colab.research.google.com/github/tuliofalmeida/pyjama/blob/main/Pyjama_total_capture.ipynb]\n",
    "  * PyJama - Python for Joint Angle Measurement Acquisition Library"
   ]
  }
 ],
 "metadata": {
  "interpreter": {
   "hash": "c79f7f4921744319e89a4ed9ff0356fec08b699e223b083d8b31a58de0d0b744"
  },
  "kernelspec": {
   "display_name": "Python 3.8.1 64-bit",
   "language": "python",
   "name": "python3"
  },
  "language_info": {
   "codemirror_mode": {
    "name": "ipython",
    "version": 3
   },
   "file_extension": ".py",
   "mimetype": "text/x-python",
   "name": "python",
   "nbconvert_exporter": "python",
   "pygments_lexer": "ipython3",
   "version": "3.8.1"
  },
  "orig_nbformat": 4
 },
 "nbformat": 4,
 "nbformat_minor": 2
}
