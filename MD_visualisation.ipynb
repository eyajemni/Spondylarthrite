{
 "cells": [
  {
   "cell_type": "markdown",
   "metadata": {},
   "source": [
    "## **Visualisation of inertial sensor data (IMU - Xsens)**\n",
    "\n",
    "### *General objective : Display an animation (3D) of the sketelon during time (image per image)*\n",
    "\n",
    "--- \n",
    "\n",
    "#### Structure of the code to manipulate the data\n",
    "**1. 1st Step - Import the necessary libraries**"
   ]
  },
  {
   "cell_type": "code",
   "execution_count": null,
   "metadata": {},
   "outputs": [],
   "source": [
    "data=pd.read_excel('Pilot_006_JeEy_Ext.xlsx', sheet_name =\"Segment Orientation - Euler\")\n",
    "print(data)"
   ]
  },
  {
   "cell_type": "markdown",
   "metadata": {},
   "source": [
    "---\n",
    "\n",
    "**2. 2nd step - Read the file**\n",
    "\n",
    "* The file consists of timeseries of joint position (X/ Y/ Z)\n",
    "* Where each line is an image\n",
    "* *But what is the time delay between 2 images ?*\n"
   ]
  }
 ],
 "metadata": {
  "interpreter": {
   "hash": "c79f7f4921744319e89a4ed9ff0356fec08b699e223b083d8b31a58de0d0b744"
  },
  "kernelspec": {
   "display_name": "Python 3.8.1 64-bit",
   "language": "python",
   "name": "python3"
  },
  "language_info": {
   "codemirror_mode": {
    "name": "ipython",
    "version": 3
   },
   "file_extension": ".py",
   "mimetype": "text/x-python",
   "name": "python",
   "nbconvert_exporter": "python",
   "pygments_lexer": "ipython3",
   "version": "3.8.1"
  },
  "orig_nbformat": 4
 },
 "nbformat": 4,
 "nbformat_minor": 2
}
