{
 "cells": [
  {
   "cell_type": "markdown",
   "id": "1d180bf2",
   "metadata": {},
   "source": [
    "# Mouvement : Extension du rachis \n",
    "## Data : Patients lombaligues et volontaires sains "
   ]
  },
  {
   "cell_type": "code",
   "execution_count": 104,
   "id": "ca37a559",
   "metadata": {},
   "outputs": [],
   "source": [
    "import numpy as np\n",
    "import pandas as pd\n",
    "import seaborn as sns\n",
    "import matplotlib\n",
    "import matplotlib.pyplot as plt\n",
    "import matplotlib.animation as animation\n",
    "import os"
   ]
  },
  {
   "cell_type": "code",
   "execution_count": 105,
   "id": "e209a177",
   "metadata": {},
   "outputs": [],
   "source": [
    "os.chdir('C:\\\\Users\\\\Eya\\\\Desktop\\\\Xsens\\\\LOMBALGIE\\\\sujets_lombalgiques_mars_2022\\\\PRE') \n",
    "#La méthode Python os.chdir() remplace le répertoire de travail actuel par le chemin donné."
   ]
  },
  {
   "cell_type": "code",
   "execution_count": 106,
   "id": "713c6eb5",
   "metadata": {},
   "outputs": [],
   "source": [
    "#Ce bloc concerne les données des personnes lombalgiques\n",
    "\n",
    "VM=[]\n",
    "AM=[]\n",
    "VAM=[]\n",
    "AAM=[]\n",
    "CMM=[]\n",
    "VCMM=[]\n",
    "ACMM=[]\n",
    "AT1M=[]\n",
    "AT2M=[]\n",
    "\n",
    "#Toutes les listes initialisés à [], prenderont les valeurs quadratiques moyennes des paramétres suivants : \n",
    "#vitesse, accélération, vitesse angulaire, accélération angulaire, centre de masse, vitesse de centre de masse, \n",
    "#accélération de centre de masse, angle 1 et angle2.\n",
    "\n",
    "#Les angles 1 et 2 correspondent au ROM, qui est l'Amplitude du mouvement (de l’anglais Range Of Motion).\n",
    "#Elles renseignent sur la capacité d’une articulation à effectuer l’ensemble de ses mouvements.\n",
    "\n",
    "#Pour le mouvement \"Extension du rachis\", les deux angles sont : \"Angle d’extension maximal entre la verticale et le pelvis\",\n",
    "#et \"Angle d’extension maximal entre la verticale et le thorax (T8)\".\n",
    "\n",
    "\n",
    "Files=['LIEURAIN\\\\LIEURAIN-003.xlsx','BUTSCHER\\\\BUTSCHER-002.xlsx','ADJADJ\\\\Extension_001.xlsx','BENHAMMADI\\\\extension_001.xlsx' , 'GIMENO\\\\GIMEMO-002.xlsx']\n",
    "\n",
    "#La liste files contient les noms des fichiers cotenant les données des sujets lombalgiques\n",
    "\n",
    "for i in range (len(Files)) :\n",
    "    File=Files[i]\n",
    "    vitesse=pd.read_excel(File, sheet_name =\"Segment Velocity\")\n",
    "    acceleration=pd.read_excel(File, sheet_name =\"Segment Acceleration\")\n",
    "    vitesse_angulaire=pd.read_excel(File, sheet_name =\"Segment Angular Velocity\")\n",
    "    acceleration_angulaire=pd.read_excel(File, sheet_name =\"Segment Angular Acceleration\")\n",
    "    centre_mass=pd.read_excel(File, sheet_name =\"Center of Mass\")\n",
    "    angles=pd.read_excel(File, sheet_name =\"Ergonomic Joint Angles ZXY\")\n",
    "    \n",
    "    \n",
    "# A chaque fichier de la liste Files, les sheets à utiliser sont extractés dans des variables.\n",
    "    \n",
    "    vitesse.drop( vitesse[ (vitesse['Frame'] > 3000) ].index, inplace=True)\n",
    "    acceleration.drop( acceleration[ (acceleration['Frame'] > 3000) ].index, inplace=True)\n",
    "    vitesse_angulaire.drop( vitesse_angulaire[ (vitesse_angulaire['Frame'] > 3000) ].index, inplace=True)\n",
    "    acceleration_angulaire.drop( acceleration_angulaire[ (acceleration_angulaire['Frame'] > 3000) ].index, inplace=True)\n",
    "    centre_mass.drop( centre_mass[ (centre_mass['Frame'] > 3000) ].index, inplace=True)\n",
    "    angles.drop( angles[ (angles['Frame'] > 3000) ].index, inplace=True)\n",
    "    \n",
    "# Nous avons fixés la valeur maximale des frames dans chaque fichier à 3000, pour que tous les fichiers soient de meme taille.   \n",
    "    \n",
    "    Frame=vitesse.loc[:,'Frame']\n",
    "\n",
    "    \n",
    "    V1=vitesse.loc[:,vitesse.columns[13]] #Velocity of T8\n",
    "    V2=vitesse.loc[:,vitesse.columns[14]]\n",
    "    V3=vitesse.loc[:,vitesse.columns[15]]\n",
    "\n",
    "# On extracte dans V1, les vitesses correspondantes à l'axe des x, dans V2 celles correspondantes à l'axe des y et dans V3\n",
    "#celles correspondantes à l'axe des z.\n",
    "\n",
    "# De meme pour les autres\n",
    "    \n",
    "    A1=acceleration.loc[:,acceleration.columns[13]] #Acceleration of T8\n",
    "    A2=acceleration.loc[:,acceleration.columns[14]]\n",
    "    A3=acceleration.loc[:,acceleration.columns[15]]\n",
    "\n",
    "    \n",
    "    VA1=vitesse_angulaire.loc[:,vitesse_angulaire.columns[13]] #Angular Velocity of T8\n",
    "    VA2=vitesse_angulaire.loc[:,vitesse_angulaire.columns[14]]\n",
    "    VA3=vitesse_angulaire.loc[:,vitesse_angulaire.columns[15]]\n",
    "    \n",
    "    \n",
    "    AA1=acceleration_angulaire.loc[:,acceleration_angulaire.columns[13]] #Angular acceleration of T8\n",
    "    AA2=acceleration_angulaire.loc[:,acceleration_angulaire.columns[14]]\n",
    "    AA3=acceleration_angulaire.loc[:,acceleration_angulaire.columns[15]]\n",
    "    \n",
    "    \n",
    "    CM1=centre_mass.loc[:,centre_mass.columns[1]] #Center of Mass \n",
    "    CM2=centre_mass.loc[:,centre_mass.columns[2]]\n",
    "    CM3=centre_mass.loc[:,centre_mass.columns[3]]\n",
    "    \n",
    "    VCM1=centre_mass.loc[:,centre_mass.columns[4]] #Velocity of Center of Mass \n",
    "    VCM2=centre_mass.loc[:,centre_mass.columns[5]]\n",
    "    VCM3=centre_mass.loc[:,centre_mass.columns[6]]\n",
    "    \n",
    "    ACM1=centre_mass.loc[:,centre_mass.columns[7]] #Acceleration of Center of Mass \n",
    "    ACM2=centre_mass.loc[:,centre_mass.columns[8]]\n",
    "    ACM3=centre_mass.loc[:,centre_mass.columns[9]]\n",
    "    \n",
    "    \n",
    "    AT1=angles.loc[:,angles.columns[12]] #Angles of T8\n",
    "    AT2=angles.loc[:,angles.columns[15]] \n",
    "    \n",
    "    \n",
    "    AT1M.append(np.max(AT1))\n",
    "    AT2M.append(np.max(AT2))\n",
    "    \n",
    "    \n",
    "    V=[]\n",
    "    A=[]\n",
    "    VA=[]\n",
    "    AA=[]\n",
    "    CM=[]\n",
    "    VCM=[]\n",
    "    ACM=[]\n",
    "    \n",
    "\n",
    "    for  k in range(len(V1)) :\n",
    "        V.append (np.sqrt (V1[k] * V1[k] + V2[k] *V2[k] + V3[k] *V3[k]))\n",
    "    mean = np.mean(V)\n",
    "    VM.append(mean)\n",
    "    \n",
    "# VM contient les vitesses quadratiques moyennes\n",
    "# De meme pour les autres\n",
    "\n",
    "\n",
    "    for  k in range(len(A1)) :\n",
    "        A.append (np.sqrt (A1[k] * A1[k] + A2[k] *A2[k] + A3[k] *A3[k]))\n",
    "    mean = np.mean(A)\n",
    "    AM.append(mean)\n",
    "\n",
    "    \n",
    "    for  k in range(len(VA1)) :\n",
    "        VA.append (np.sqrt (VA1[k] * VA1[k] + VA2[k] *VA2[k] + VA3[k] *VA3[k]))\n",
    "    mean = np.mean(VA)\n",
    "    VAM.append(mean)\n",
    "    \n",
    "    \n",
    "    for  k in range(len(AA1)) :\n",
    "        AA.append (np.sqrt (AA1[k] * AA1[k] + AA2[k] *AA2[k] + AA3[k] *AA3[k]))\n",
    "    mean = np.mean(AA)\n",
    "    AAM.append(mean)\n",
    "    \n",
    "    \n",
    "    for  k in range(len(CM1)) :\n",
    "        CM.append (np.sqrt (CM1[k] * CM1[k] + CM2[k] *CM2[k] + CM3[k] *CM3[k]))\n",
    "    mean = np.mean(CM)\n",
    "    CMM.append(mean)\n",
    "    \n",
    "    for  k in range(len(VCM1)) :\n",
    "        VCM.append (np.sqrt (VCM1[k] * VCM1[k] + VCM2[k] *VCM2[k] + VCM3[k] *VCM3[k]))\n",
    "    mean = np.mean(VCM)\n",
    "    VCMM.append(mean)\n",
    "    \n",
    "    for  k in range(len(ACM1)) :\n",
    "        ACM.append (np.sqrt (ACM1[k] * ACM1[k] + ACM2[k] *ACM2[k] + ACM3[k] *ACM3[k]))\n",
    "    mean = np.mean(ACM)\n",
    "    ACMM.append(mean)\n",
    "    \n",
    "    \n",
    "\n",
    "    "
   ]
  },
  {
   "cell_type": "code",
   "execution_count": 107,
   "id": "2905c05a",
   "metadata": {},
   "outputs": [],
   "source": [
    "os.chdir('C:\\\\Users\\\\Eya\\\\Desktop\\\\Xsens\\\\LOMBALGIE\\\\SUJETS_SAINS')"
   ]
  },
  {
   "cell_type": "code",
   "execution_count": 108,
   "id": "7d58fdf5",
   "metadata": {},
   "outputs": [],
   "source": [
    "#Ce bloc concerne les données des personnes sains \n",
    "\n",
    "# Le meme démarche a été fait comme le bloc précédent.\n",
    "\n",
    "Files=['thierry\\\\thierry-002.xlsx' , 'Unai G\\\\Unai-003.xlsx' , 'Isabel Tavares\\\\ExtensionDos_001.xlsx','estelle ARGOTTI\\\\estelle-003.xlsx' , 'Barbara Rider\\\\TEST-002.xlsx']\n",
    "for i in range (len(Files)) :\n",
    "    File=Files[i]\n",
    "    vitesse=pd.read_excel(File, sheet_name =\"Segment Velocity\")\n",
    "    acceleration=pd.read_excel(File, sheet_name =\"Segment Acceleration\")\n",
    "    vitesse_angulaire=pd.read_excel(File, sheet_name =\"Segment Angular Velocity\")\n",
    "    acceleration_angulaire=pd.read_excel(File, sheet_name =\"Segment Angular Acceleration\")\n",
    "    centre_mass=pd.read_excel(File, sheet_name =\"Center of Mass\")\n",
    "    angles=pd.read_excel(File, sheet_name =\"Ergonomic Joint Angles ZXY\")\n",
    "    \n",
    "    \n",
    "    \n",
    "    \n",
    "    vitesse.drop( vitesse[ (vitesse['Frame'] > 3000) ].index, inplace=True)\n",
    "    acceleration.drop( acceleration[ (acceleration['Frame'] > 3000) ].index, inplace=True)\n",
    "    vitesse_angulaire.drop( vitesse_angulaire[ (vitesse_angulaire['Frame'] > 3000) ].index, inplace=True)\n",
    "    acceleration_angulaire.drop( acceleration_angulaire[ (acceleration_angulaire['Frame'] > 3000) ].index, inplace=True)\n",
    "    centre_mass.drop( centre_mass[ (centre_mass['Frame'] > 3000) ].index, inplace=True)\n",
    "    angles.drop( angles[ (angles['Frame'] > 3000) ].index, inplace=True)\n",
    "    \n",
    "    Frame=vitesse.loc[:,'Frame']\n",
    "\n",
    "    \n",
    "    V1=vitesse.loc[:,vitesse.columns[13]] #Velocity of T8\n",
    "    V2=vitesse.loc[:,vitesse.columns[14]]\n",
    "    V3=vitesse.loc[:,vitesse.columns[15]]\n",
    "    \n",
    "    A1=acceleration.loc[:,acceleration.columns[13]] #Acceleration of T8\n",
    "    A2=acceleration.loc[:,acceleration.columns[14]]\n",
    "    A3=acceleration.loc[:,acceleration.columns[15]]\n",
    "\n",
    "    \n",
    "    VA1=vitesse_angulaire.loc[:,vitesse_angulaire.columns[13]] #Angular Velocity of T8\n",
    "    VA2=vitesse_angulaire.loc[:,vitesse_angulaire.columns[14]]\n",
    "    VA3=vitesse_angulaire.loc[:,vitesse_angulaire.columns[15]]\n",
    "    \n",
    "    \n",
    "    AA1=acceleration_angulaire.loc[:,acceleration_angulaire.columns[13]] #Angular acceleration of T8\n",
    "    AA2=acceleration_angulaire.loc[:,acceleration_angulaire.columns[14]]\n",
    "    AA3=acceleration_angulaire.loc[:,acceleration_angulaire.columns[15]]\n",
    "    \n",
    "    \n",
    "    CM1=centre_mass.loc[:,centre_mass.columns[1]] #Center of Mass \n",
    "    CM2=centre_mass.loc[:,centre_mass.columns[2]]\n",
    "    CM3=centre_mass.loc[:,centre_mass.columns[3]]\n",
    "    \n",
    "    VCM1=centre_mass.loc[:,centre_mass.columns[4]] #Velocity of Center of Mass \n",
    "    VCM2=centre_mass.loc[:,centre_mass.columns[5]]\n",
    "    VCM3=centre_mass.loc[:,centre_mass.columns[6]]\n",
    "    \n",
    "    ACM1=centre_mass.loc[:,centre_mass.columns[7]] #Acceleration of Center of Mass \n",
    "    ACM2=centre_mass.loc[:,centre_mass.columns[8]]\n",
    "    ACM3=centre_mass.loc[:,centre_mass.columns[9]]\n",
    "    \n",
    "    \n",
    "    AT1=angles.loc[:,angles.columns[12]] #Angles of T8\n",
    "    AT2=angles.loc[:,angles.columns[15]] \n",
    "    \n",
    "    \n",
    "    AT1M.append(np.mean(AT1))\n",
    "    AT2M.append(np.mean(AT2))\n",
    "    \n",
    "    \n",
    "    V=[]\n",
    "    A=[]\n",
    "    VA=[]\n",
    "    AA=[]\n",
    "    CM=[]\n",
    "    VCM=[]\n",
    "    ACM=[]\n",
    "    \n",
    "\n",
    "    for  k in range(len(V1)) :\n",
    "        V.append (np.sqrt (V1[k] * V1[k] + V2[k] *V2[k] + V3[k] *V3[k]))\n",
    "    mean = np.mean(V)\n",
    "    VM.append(mean)\n",
    "    \n",
    "    \n",
    "    for  k in range(len(A1)) :\n",
    "        A.append (np.sqrt (A1[k] * A1[k] + A2[k] *A2[k] + A3[k] *A3[k]))\n",
    "    mean = np.mean(A)\n",
    "    AM.append(mean)\n",
    "\n",
    "    \n",
    "    for  k in range(len(VA1)) :\n",
    "        VA.append (np.sqrt (VA1[k] * VA1[k] + VA2[k] *VA2[k] + VA3[k] *VA3[k]))\n",
    "    mean = np.mean(VA)\n",
    "    VAM.append(mean)\n",
    "    \n",
    "    \n",
    "    for  k in range(len(AA1)) :\n",
    "        AA.append (np.sqrt (AA1[k] * AA1[k] + AA2[k] *AA2[k] + AA3[k] *AA3[k]))\n",
    "    mean = np.mean(AA)\n",
    "    AAM.append(mean)\n",
    "    \n",
    "    \n",
    "    for  k in range(len(CM1)) :\n",
    "        CM.append (np.sqrt (CM1[k] * CM1[k] + CM2[k] *CM2[k] + CM3[k] *CM3[k]))\n",
    "    mean = np.mean(CM)\n",
    "    CMM.append(mean)\n",
    "    \n",
    "    for  k in range(len(VCM1)) :\n",
    "        VCM.append (np.sqrt (VCM1[k] * VCM1[k] + VCM2[k] *VCM2[k] + VCM3[k] *VCM3[k]))\n",
    "    mean = np.mean(VCM)\n",
    "    VCMM.append(mean)\n",
    "    \n",
    "    for  k in range(len(ACM1)) :\n",
    "        ACM.append (np.sqrt (ACM1[k] * ACM1[k] + ACM2[k] *ACM2[k] + ACM3[k] *ACM3[k]))\n",
    "    mean = np.mean(ACM)\n",
    "    ACMM.append(mean)\n",
    "    \n",
    "    \n",
    "\n",
    "    "
   ]
  },
  {
   "cell_type": "markdown",
   "id": "f9f25f81",
   "metadata": {},
   "source": [
    "### Construction de la base de données"
   ]
  },
  {
   "cell_type": "code",
   "execution_count": 153,
   "id": "03887f54",
   "metadata": {},
   "outputs": [],
   "source": [
    "# Création de la colonne Personne\n",
    "columns = ['Personne']"
   ]
  },
  {
   "cell_type": "code",
   "execution_count": 154,
   "id": "e93fab71",
   "metadata": {},
   "outputs": [],
   "source": [
    "index = [1,2,3,4,5,6,7,8,9,10]"
   ]
  },
  {
   "cell_type": "code",
   "execution_count": 155,
   "id": "1d69a104",
   "metadata": {},
   "outputs": [],
   "source": [
    "data = [1,2,3,4,5,6,7,8,9,10]"
   ]
  },
  {
   "cell_type": "code",
   "execution_count": 156,
   "id": "df61e5df",
   "metadata": {},
   "outputs": [
    {
     "data": {
      "text/html": [
       "<div>\n",
       "<style scoped>\n",
       "    .dataframe tbody tr th:only-of-type {\n",
       "        vertical-align: middle;\n",
       "    }\n",
       "\n",
       "    .dataframe tbody tr th {\n",
       "        vertical-align: top;\n",
       "    }\n",
       "\n",
       "    .dataframe thead th {\n",
       "        text-align: right;\n",
       "    }\n",
       "</style>\n",
       "<table border=\"1\" class=\"dataframe\">\n",
       "  <thead>\n",
       "    <tr style=\"text-align: right;\">\n",
       "      <th></th>\n",
       "      <th>Personne</th>\n",
       "    </tr>\n",
       "  </thead>\n",
       "  <tbody>\n",
       "    <tr>\n",
       "      <th>1</th>\n",
       "      <td>1</td>\n",
       "    </tr>\n",
       "    <tr>\n",
       "      <th>2</th>\n",
       "      <td>2</td>\n",
       "    </tr>\n",
       "    <tr>\n",
       "      <th>3</th>\n",
       "      <td>3</td>\n",
       "    </tr>\n",
       "    <tr>\n",
       "      <th>4</th>\n",
       "      <td>4</td>\n",
       "    </tr>\n",
       "    <tr>\n",
       "      <th>5</th>\n",
       "      <td>5</td>\n",
       "    </tr>\n",
       "    <tr>\n",
       "      <th>6</th>\n",
       "      <td>6</td>\n",
       "    </tr>\n",
       "    <tr>\n",
       "      <th>7</th>\n",
       "      <td>7</td>\n",
       "    </tr>\n",
       "    <tr>\n",
       "      <th>8</th>\n",
       "      <td>8</td>\n",
       "    </tr>\n",
       "    <tr>\n",
       "      <th>9</th>\n",
       "      <td>9</td>\n",
       "    </tr>\n",
       "    <tr>\n",
       "      <th>10</th>\n",
       "      <td>10</td>\n",
       "    </tr>\n",
       "  </tbody>\n",
       "</table>\n",
       "</div>"
      ],
      "text/plain": [
       "    Personne\n",
       "1          1\n",
       "2          2\n",
       "3          3\n",
       "4          4\n",
       "5          5\n",
       "6          6\n",
       "7          7\n",
       "8          8\n",
       "9          9\n",
       "10        10"
      ]
     },
     "execution_count": 156,
     "metadata": {},
     "output_type": "execute_result"
    }
   ],
   "source": [
    "df = pd.DataFrame(data=data,index=index,columns=columns)\n",
    "df"
   ]
  },
  {
   "cell_type": "code",
   "execution_count": 165,
   "id": "6e7fc2d1",
   "metadata": {},
   "outputs": [],
   "source": [
    "# Création des autres colonnes de la base\n",
    "\n",
    "df['Vitesse quadratique moyenne'] = VM\n",
    "df['Accéleration quadratique moyenne']=AM\n",
    "df['vitesse angulaire moyenne']=VAM\n",
    "df['acceleration angulaire moyenne']=AAM\n",
    "df['centre de masse moyen']=CMM\n",
    "df['vitesse de centre de masse moyenne']=VCMM\n",
    "df['acceleration de centre de masse moyenne']=ACMM\n",
    "df['angle1']=AT1M\n",
    "df['angle2']=AT2M"
   ]
  },
  {
   "cell_type": "code",
   "execution_count": 177,
   "id": "6a280068",
   "metadata": {},
   "outputs": [
    {
     "data": {
      "text/html": [
       "<div>\n",
       "<style scoped>\n",
       "    .dataframe tbody tr th:only-of-type {\n",
       "        vertical-align: middle;\n",
       "    }\n",
       "\n",
       "    .dataframe tbody tr th {\n",
       "        vertical-align: top;\n",
       "    }\n",
       "\n",
       "    .dataframe thead th {\n",
       "        text-align: right;\n",
       "    }\n",
       "</style>\n",
       "<table border=\"1\" class=\"dataframe\">\n",
       "  <thead>\n",
       "    <tr style=\"text-align: right;\">\n",
       "      <th></th>\n",
       "      <th>Personne</th>\n",
       "      <th>Vitesse quadratique moyenne</th>\n",
       "      <th>Accéleration quadratique moyenne</th>\n",
       "      <th>centre de masse moyen</th>\n",
       "      <th>acceleration de centre de masse moyenne</th>\n",
       "      <th>angle1</th>\n",
       "      <th>angle2</th>\n",
       "      <th>vitesse angulaire moyenne</th>\n",
       "      <th>acceleration angulaire moyenne</th>\n",
       "      <th>vitesse de centre de masse moyenne</th>\n",
       "    </tr>\n",
       "  </thead>\n",
       "  <tbody>\n",
       "    <tr>\n",
       "      <th>1</th>\n",
       "      <td>1</td>\n",
       "      <td>0.088129</td>\n",
       "      <td>0.372414</td>\n",
       "      <td>2.545982</td>\n",
       "      <td>0.181312</td>\n",
       "      <td>4.944462</td>\n",
       "      <td>7.220784</td>\n",
       "      <td>0.386356</td>\n",
       "      <td>2.007141</td>\n",
       "      <td>4.591797e-02</td>\n",
       "    </tr>\n",
       "    <tr>\n",
       "      <th>2</th>\n",
       "      <td>2</td>\n",
       "      <td>0.169050</td>\n",
       "      <td>1.172249</td>\n",
       "      <td>2.759956</td>\n",
       "      <td>0.408659</td>\n",
       "      <td>6.560443</td>\n",
       "      <td>23.111439</td>\n",
       "      <td>0.512856</td>\n",
       "      <td>6.947285</td>\n",
       "      <td>8.859517e-02</td>\n",
       "    </tr>\n",
       "    <tr>\n",
       "      <th>3</th>\n",
       "      <td>3</td>\n",
       "      <td>0.080234</td>\n",
       "      <td>0.285283</td>\n",
       "      <td>1.823912</td>\n",
       "      <td>0.153858</td>\n",
       "      <td>6.255955</td>\n",
       "      <td>18.846133</td>\n",
       "      <td>0.307484</td>\n",
       "      <td>1.369508</td>\n",
       "      <td>3.473456e-02</td>\n",
       "    </tr>\n",
       "    <tr>\n",
       "      <th>4</th>\n",
       "      <td>4</td>\n",
       "      <td>0.042772</td>\n",
       "      <td>0.204505</td>\n",
       "      <td>2.201621</td>\n",
       "      <td>0.133541</td>\n",
       "      <td>-13.505002</td>\n",
       "      <td>16.895792</td>\n",
       "      <td>0.273512</td>\n",
       "      <td>1.325051</td>\n",
       "      <td>3.016698e-02</td>\n",
       "    </tr>\n",
       "    <tr>\n",
       "      <th>5</th>\n",
       "      <td>5</td>\n",
       "      <td>0.099894</td>\n",
       "      <td>0.282096</td>\n",
       "      <td>1.863105</td>\n",
       "      <td>0.131421</td>\n",
       "      <td>8.275950</td>\n",
       "      <td>10.266255</td>\n",
       "      <td>0.386053</td>\n",
       "      <td>1.449011</td>\n",
       "      <td>4.271759e-02</td>\n",
       "    </tr>\n",
       "    <tr>\n",
       "      <th>6</th>\n",
       "      <td>6</td>\n",
       "      <td>0.140703</td>\n",
       "      <td>0.710858</td>\n",
       "      <td>1.803930</td>\n",
       "      <td>0.295859</td>\n",
       "      <td>-17.797816</td>\n",
       "      <td>-0.147203</td>\n",
       "      <td>0.715306</td>\n",
       "      <td>4.411140</td>\n",
       "      <td>1.037751e+20</td>\n",
       "    </tr>\n",
       "    <tr>\n",
       "      <th>7</th>\n",
       "      <td>7</td>\n",
       "      <td>0.040229</td>\n",
       "      <td>0.205397</td>\n",
       "      <td>0.944860</td>\n",
       "      <td>0.100124</td>\n",
       "      <td>-15.595779</td>\n",
       "      <td>2.722685</td>\n",
       "      <td>0.230641</td>\n",
       "      <td>1.089484</td>\n",
       "      <td>2.157021e-02</td>\n",
       "    </tr>\n",
       "    <tr>\n",
       "      <th>8</th>\n",
       "      <td>8</td>\n",
       "      <td>0.098592</td>\n",
       "      <td>0.319519</td>\n",
       "      <td>0.985909</td>\n",
       "      <td>0.172258</td>\n",
       "      <td>-15.555762</td>\n",
       "      <td>2.500706</td>\n",
       "      <td>0.389558</td>\n",
       "      <td>1.663755</td>\n",
       "      <td>4.719750e-02</td>\n",
       "    </tr>\n",
       "    <tr>\n",
       "      <th>9</th>\n",
       "      <td>9</td>\n",
       "      <td>0.091834</td>\n",
       "      <td>0.285275</td>\n",
       "      <td>0.969427</td>\n",
       "      <td>0.133203</td>\n",
       "      <td>-16.459523</td>\n",
       "      <td>1.779652</td>\n",
       "      <td>0.411154</td>\n",
       "      <td>1.260415</td>\n",
       "      <td>9.681205e+39</td>\n",
       "    </tr>\n",
       "    <tr>\n",
       "      <th>10</th>\n",
       "      <td>10</td>\n",
       "      <td>0.091292</td>\n",
       "      <td>0.374042</td>\n",
       "      <td>0.880279</td>\n",
       "      <td>0.216462</td>\n",
       "      <td>-19.775901</td>\n",
       "      <td>-6.196245</td>\n",
       "      <td>0.499045</td>\n",
       "      <td>2.193129</td>\n",
       "      <td>5.750383e+50</td>\n",
       "    </tr>\n",
       "  </tbody>\n",
       "</table>\n",
       "</div>"
      ],
      "text/plain": [
       "    Personne  Vitesse quadratique moyenne  Accéleration quadratique moyenne  \\\n",
       "1          1                     0.088129                          0.372414   \n",
       "2          2                     0.169050                          1.172249   \n",
       "3          3                     0.080234                          0.285283   \n",
       "4          4                     0.042772                          0.204505   \n",
       "5          5                     0.099894                          0.282096   \n",
       "6          6                     0.140703                          0.710858   \n",
       "7          7                     0.040229                          0.205397   \n",
       "8          8                     0.098592                          0.319519   \n",
       "9          9                     0.091834                          0.285275   \n",
       "10        10                     0.091292                          0.374042   \n",
       "\n",
       "    centre de masse moyen  acceleration de centre de masse moyenne     angle1  \\\n",
       "1                2.545982                                 0.181312   4.944462   \n",
       "2                2.759956                                 0.408659   6.560443   \n",
       "3                1.823912                                 0.153858   6.255955   \n",
       "4                2.201621                                 0.133541 -13.505002   \n",
       "5                1.863105                                 0.131421   8.275950   \n",
       "6                1.803930                                 0.295859 -17.797816   \n",
       "7                0.944860                                 0.100124 -15.595779   \n",
       "8                0.985909                                 0.172258 -15.555762   \n",
       "9                0.969427                                 0.133203 -16.459523   \n",
       "10               0.880279                                 0.216462 -19.775901   \n",
       "\n",
       "       angle2  vitesse angulaire moyenne  acceleration angulaire moyenne  \\\n",
       "1    7.220784                   0.386356                        2.007141   \n",
       "2   23.111439                   0.512856                        6.947285   \n",
       "3   18.846133                   0.307484                        1.369508   \n",
       "4   16.895792                   0.273512                        1.325051   \n",
       "5   10.266255                   0.386053                        1.449011   \n",
       "6   -0.147203                   0.715306                        4.411140   \n",
       "7    2.722685                   0.230641                        1.089484   \n",
       "8    2.500706                   0.389558                        1.663755   \n",
       "9    1.779652                   0.411154                        1.260415   \n",
       "10  -6.196245                   0.499045                        2.193129   \n",
       "\n",
       "    vitesse de centre de masse moyenne  \n",
       "1                         4.591797e-02  \n",
       "2                         8.859517e-02  \n",
       "3                         3.473456e-02  \n",
       "4                         3.016698e-02  \n",
       "5                         4.271759e-02  \n",
       "6                         1.037751e+20  \n",
       "7                         2.157021e-02  \n",
       "8                         4.719750e-02  \n",
       "9                         9.681205e+39  \n",
       "10                        5.750383e+50  "
      ]
     },
     "execution_count": 177,
     "metadata": {},
     "output_type": "execute_result"
    }
   ],
   "source": [
    "df"
   ]
  },
  {
   "cell_type": "code",
   "execution_count": 184,
   "id": "9d2f8808",
   "metadata": {},
   "outputs": [
    {
     "data": {
      "text/plain": [
       "<seaborn.axisgrid.PairGrid at 0x1cf03362af0>"
      ]
     },
     "execution_count": 184,
     "metadata": {},
     "output_type": "execute_result"
    },
    {
     "data": {
      "image/png": "[encoded data removed]",
      "text/plain": [
       "<Figure size 540x540 with 12 Axes>"
      ]
     },
     "metadata": {
      "needs_background": "light"
     },
     "output_type": "display_data"
    }
   ],
   "source": [
    "# Tracer la relation entre les deux angles\n",
    "\n",
    "sns.pairplot(df[['Personne','angle1','angle2']] )"
   ]
  },
  {
   "cell_type": "code",
   "execution_count": null,
   "id": "0c2467f3",
   "metadata": {},
   "outputs": [],
   "source": [
    "df.drop(columns=['vitesse angulaire moyenne','acceleration angulaire moyenne','vitesse de centre de masse moyenne'],inplace=True)"
   ]
  },
  {
   "cell_type": "code",
   "execution_count": 162,
   "id": "86b4b260",
   "metadata": {},
   "outputs": [
    {
     "data": {
      "text/html": [
       "<div>\n",
       "<style scoped>\n",
       "    .dataframe tbody tr th:only-of-type {\n",
       "        vertical-align: middle;\n",
       "    }\n",
       "\n",
       "    .dataframe tbody tr th {\n",
       "        vertical-align: top;\n",
       "    }\n",
       "\n",
       "    .dataframe thead th {\n",
       "        text-align: right;\n",
       "    }\n",
       "</style>\n",
       "<table border=\"1\" class=\"dataframe\">\n",
       "  <thead>\n",
       "    <tr style=\"text-align: right;\">\n",
       "      <th></th>\n",
       "      <th>Personne</th>\n",
       "      <th>Vitesse quadratique moyenne</th>\n",
       "      <th>Accéleration quadratique moyenne</th>\n",
       "      <th>centre de masse moyen</th>\n",
       "      <th>acceleration de centre de masse moyenne</th>\n",
       "      <th>angle1</th>\n",
       "      <th>angle2</th>\n",
       "    </tr>\n",
       "  </thead>\n",
       "  <tbody>\n",
       "    <tr>\n",
       "      <th>1</th>\n",
       "      <td>1</td>\n",
       "      <td>0.088129</td>\n",
       "      <td>0.372414</td>\n",
       "      <td>2.545982</td>\n",
       "      <td>0.181312</td>\n",
       "      <td>4.944462</td>\n",
       "      <td>7.220784</td>\n",
       "    </tr>\n",
       "    <tr>\n",
       "      <th>2</th>\n",
       "      <td>2</td>\n",
       "      <td>0.169050</td>\n",
       "      <td>1.172249</td>\n",
       "      <td>2.759956</td>\n",
       "      <td>0.408659</td>\n",
       "      <td>6.560443</td>\n",
       "      <td>23.111439</td>\n",
       "    </tr>\n",
       "    <tr>\n",
       "      <th>3</th>\n",
       "      <td>3</td>\n",
       "      <td>0.080234</td>\n",
       "      <td>0.285283</td>\n",
       "      <td>1.823912</td>\n",
       "      <td>0.153858</td>\n",
       "      <td>6.255955</td>\n",
       "      <td>18.846133</td>\n",
       "    </tr>\n",
       "    <tr>\n",
       "      <th>4</th>\n",
       "      <td>4</td>\n",
       "      <td>0.042772</td>\n",
       "      <td>0.204505</td>\n",
       "      <td>2.201621</td>\n",
       "      <td>0.133541</td>\n",
       "      <td>-13.505002</td>\n",
       "      <td>16.895792</td>\n",
       "    </tr>\n",
       "    <tr>\n",
       "      <th>5</th>\n",
       "      <td>5</td>\n",
       "      <td>0.099894</td>\n",
       "      <td>0.282096</td>\n",
       "      <td>1.863105</td>\n",
       "      <td>0.131421</td>\n",
       "      <td>8.275950</td>\n",
       "      <td>10.266255</td>\n",
       "    </tr>\n",
       "    <tr>\n",
       "      <th>6</th>\n",
       "      <td>6</td>\n",
       "      <td>0.140703</td>\n",
       "      <td>0.710858</td>\n",
       "      <td>1.803930</td>\n",
       "      <td>0.295859</td>\n",
       "      <td>-17.797816</td>\n",
       "      <td>-0.147203</td>\n",
       "    </tr>\n",
       "    <tr>\n",
       "      <th>7</th>\n",
       "      <td>7</td>\n",
       "      <td>0.040229</td>\n",
       "      <td>0.205397</td>\n",
       "      <td>0.944860</td>\n",
       "      <td>0.100124</td>\n",
       "      <td>-15.595779</td>\n",
       "      <td>2.722685</td>\n",
       "    </tr>\n",
       "    <tr>\n",
       "      <th>8</th>\n",
       "      <td>8</td>\n",
       "      <td>0.098592</td>\n",
       "      <td>0.319519</td>\n",
       "      <td>0.985909</td>\n",
       "      <td>0.172258</td>\n",
       "      <td>-15.555762</td>\n",
       "      <td>2.500706</td>\n",
       "    </tr>\n",
       "    <tr>\n",
       "      <th>9</th>\n",
       "      <td>9</td>\n",
       "      <td>0.091834</td>\n",
       "      <td>0.285275</td>\n",
       "      <td>0.969427</td>\n",
       "      <td>0.133203</td>\n",
       "      <td>-16.459523</td>\n",
       "      <td>1.779652</td>\n",
       "    </tr>\n",
       "    <tr>\n",
       "      <th>10</th>\n",
       "      <td>10</td>\n",
       "      <td>0.091292</td>\n",
       "      <td>0.374042</td>\n",
       "      <td>0.880279</td>\n",
       "      <td>0.216462</td>\n",
       "      <td>-19.775901</td>\n",
       "      <td>-6.196245</td>\n",
       "    </tr>\n",
       "  </tbody>\n",
       "</table>\n",
       "</div>"
      ],
      "text/plain": [
       "    Personne  Vitesse quadratique moyenne  Accéleration quadratique moyenne  \\\n",
       "1          1                     0.088129                          0.372414   \n",
       "2          2                     0.169050                          1.172249   \n",
       "3          3                     0.080234                          0.285283   \n",
       "4          4                     0.042772                          0.204505   \n",
       "5          5                     0.099894                          0.282096   \n",
       "6          6                     0.140703                          0.710858   \n",
       "7          7                     0.040229                          0.205397   \n",
       "8          8                     0.098592                          0.319519   \n",
       "9          9                     0.091834                          0.285275   \n",
       "10        10                     0.091292                          0.374042   \n",
       "\n",
       "    centre de masse moyen  acceleration de centre de masse moyenne     angle1  \\\n",
       "1                2.545982                                 0.181312   4.944462   \n",
       "2                2.759956                                 0.408659   6.560443   \n",
       "3                1.823912                                 0.153858   6.255955   \n",
       "4                2.201621                                 0.133541 -13.505002   \n",
       "5                1.863105                                 0.131421   8.275950   \n",
       "6                1.803930                                 0.295859 -17.797816   \n",
       "7                0.944860                                 0.100124 -15.595779   \n",
       "8                0.985909                                 0.172258 -15.555762   \n",
       "9                0.969427                                 0.133203 -16.459523   \n",
       "10               0.880279                                 0.216462 -19.775901   \n",
       "\n",
       "       angle2  \n",
       "1    7.220784  \n",
       "2   23.111439  \n",
       "3   18.846133  \n",
       "4   16.895792  \n",
       "5   10.266255  \n",
       "6   -0.147203  \n",
       "7    2.722685  \n",
       "8    2.500706  \n",
       "9    1.779652  \n",
       "10  -6.196245  "
      ]
     },
     "execution_count": 162,
     "metadata": {},
     "output_type": "execute_result"
    }
   ],
   "source": [
    "df"
   ]
  },
  {
   "cell_type": "markdown",
   "id": "5b574273",
   "metadata": {},
   "source": [
    "## Standardisation des données"
   ]
  },
  {
   "cell_type": "code",
   "execution_count": 118,
   "id": "c4f9fc26",
   "metadata": {},
   "outputs": [
    {
     "data": {
      "text/plain": [
       "Personne                                   5.500000\n",
       "Vitesse quadratique moyenne                0.094273\n",
       "Accéleration quadratique moyenne           0.421164\n",
       "centre de masse moyen                      1.677898\n",
       "acceleration de centre de masse moyenne    0.192670\n",
       "angle1                                    -7.265297\n",
       "angle2                                     7.700000\n",
       "dtype: float64"
      ]
     },
     "execution_count": 118,
     "metadata": {},
     "output_type": "execute_result"
    }
   ],
   "source": [
    "df.mean(axis=0) #moyenne par colonne"
   ]
  },
  {
   "cell_type": "code",
   "execution_count": 119,
   "id": "e099c9d9",
   "metadata": {},
   "outputs": [
    {
     "data": {
      "text/plain": [
       "Personne                                    3.027650\n",
       "Vitesse quadratique moyenne                 0.038902\n",
       "Accéleration quadratique moyenne            0.300508\n",
       "centre de masse moyen                       0.701152\n",
       "acceleration de centre de masse moyenne     0.093847\n",
       "angle1                                     11.989021\n",
       "angle2                                      9.396617\n",
       "dtype: float64"
      ]
     },
     "execution_count": 119,
     "metadata": {},
     "output_type": "execute_result"
    }
   ],
   "source": [
    "df.std(axis=0) #écartype par colonne"
   ]
  },
  {
   "cell_type": "code",
   "execution_count": 120,
   "id": "e0b9b2fe",
   "metadata": {},
   "outputs": [
    {
     "data": {
      "text/html": [
       "<div>\n",
       "<style scoped>\n",
       "    .dataframe tbody tr th:only-of-type {\n",
       "        vertical-align: middle;\n",
       "    }\n",
       "\n",
       "    .dataframe tbody tr th {\n",
       "        vertical-align: top;\n",
       "    }\n",
       "\n",
       "    .dataframe thead th {\n",
       "        text-align: right;\n",
       "    }\n",
       "</style>\n",
       "<table border=\"1\" class=\"dataframe\">\n",
       "  <thead>\n",
       "    <tr style=\"text-align: right;\">\n",
       "      <th></th>\n",
       "      <th>Personne</th>\n",
       "      <th>Vitesse quadratique moyenne</th>\n",
       "      <th>Accéleration quadratique moyenne</th>\n",
       "      <th>centre de masse moyen</th>\n",
       "      <th>acceleration de centre de masse moyenne</th>\n",
       "      <th>angle1</th>\n",
       "      <th>angle2</th>\n",
       "    </tr>\n",
       "  </thead>\n",
       "  <tbody>\n",
       "    <tr>\n",
       "      <th>1</th>\n",
       "      <td>-1.486301</td>\n",
       "      <td>-0.157936</td>\n",
       "      <td>-0.162225</td>\n",
       "      <td>1.238081</td>\n",
       "      <td>-0.121022</td>\n",
       "      <td>1.018412</td>\n",
       "      <td>-0.050999</td>\n",
       "    </tr>\n",
       "    <tr>\n",
       "      <th>2</th>\n",
       "      <td>-1.156012</td>\n",
       "      <td>1.922182</td>\n",
       "      <td>2.499384</td>\n",
       "      <td>1.543257</td>\n",
       "      <td>2.301493</td>\n",
       "      <td>1.153200</td>\n",
       "      <td>1.640105</td>\n",
       "    </tr>\n",
       "    <tr>\n",
       "      <th>3</th>\n",
       "      <td>-0.825723</td>\n",
       "      <td>-0.360864</td>\n",
       "      <td>-0.452171</td>\n",
       "      <td>0.208248</td>\n",
       "      <td>-0.413564</td>\n",
       "      <td>1.127803</td>\n",
       "      <td>1.186186</td>\n",
       "    </tr>\n",
       "    <tr>\n",
       "      <th>4</th>\n",
       "      <td>-0.495434</td>\n",
       "      <td>-1.323860</td>\n",
       "      <td>-0.720976</td>\n",
       "      <td>0.746946</td>\n",
       "      <td>-0.630056</td>\n",
       "      <td>-0.520452</td>\n",
       "      <td>0.978628</td>\n",
       "    </tr>\n",
       "    <tr>\n",
       "      <th>5</th>\n",
       "      <td>-0.165145</td>\n",
       "      <td>0.144496</td>\n",
       "      <td>-0.462775</td>\n",
       "      <td>0.264147</td>\n",
       "      <td>-0.652644</td>\n",
       "      <td>1.296290</td>\n",
       "      <td>0.273104</td>\n",
       "    </tr>\n",
       "    <tr>\n",
       "      <th>6</th>\n",
       "      <td>0.165145</td>\n",
       "      <td>1.193509</td>\n",
       "      <td>0.964014</td>\n",
       "      <td>0.179749</td>\n",
       "      <td>1.099543</td>\n",
       "      <td>-0.878514</td>\n",
       "      <td>-0.835109</td>\n",
       "    </tr>\n",
       "    <tr>\n",
       "      <th>7</th>\n",
       "      <td>0.495434</td>\n",
       "      <td>-1.389234</td>\n",
       "      <td>-0.718007</td>\n",
       "      <td>-1.045476</td>\n",
       "      <td>-0.986125</td>\n",
       "      <td>-0.694843</td>\n",
       "      <td>-0.529692</td>\n",
       "    </tr>\n",
       "    <tr>\n",
       "      <th>8</th>\n",
       "      <td>0.825723</td>\n",
       "      <td>0.111031</td>\n",
       "      <td>-0.338244</td>\n",
       "      <td>-0.986931</td>\n",
       "      <td>-0.217496</td>\n",
       "      <td>-0.691505</td>\n",
       "      <td>-0.553315</td>\n",
       "    </tr>\n",
       "    <tr>\n",
       "      <th>9</th>\n",
       "      <td>1.156012</td>\n",
       "      <td>-0.062699</td>\n",
       "      <td>-0.452196</td>\n",
       "      <td>-1.010439</td>\n",
       "      <td>-0.633653</td>\n",
       "      <td>-0.766887</td>\n",
       "      <td>-0.630051</td>\n",
       "    </tr>\n",
       "    <tr>\n",
       "      <th>10</th>\n",
       "      <td>1.486301</td>\n",
       "      <td>-0.076626</td>\n",
       "      <td>-0.156805</td>\n",
       "      <td>-1.137583</td>\n",
       "      <td>0.253524</td>\n",
       "      <td>-1.043505</td>\n",
       "      <td>-1.478856</td>\n",
       "    </tr>\n",
       "  </tbody>\n",
       "</table>\n",
       "</div>"
      ],
      "text/plain": [
       "    Personne  Vitesse quadratique moyenne  Accéleration quadratique moyenne  \\\n",
       "1  -1.486301                    -0.157936                         -0.162225   \n",
       "2  -1.156012                     1.922182                          2.499384   \n",
       "3  -0.825723                    -0.360864                         -0.452171   \n",
       "4  -0.495434                    -1.323860                         -0.720976   \n",
       "5  -0.165145                     0.144496                         -0.462775   \n",
       "6   0.165145                     1.193509                          0.964014   \n",
       "7   0.495434                    -1.389234                         -0.718007   \n",
       "8   0.825723                     0.111031                         -0.338244   \n",
       "9   1.156012                    -0.062699                         -0.452196   \n",
       "10  1.486301                    -0.076626                         -0.156805   \n",
       "\n",
       "    centre de masse moyen  acceleration de centre de masse moyenne    angle1  \\\n",
       "1                1.238081                                -0.121022  1.018412   \n",
       "2                1.543257                                 2.301493  1.153200   \n",
       "3                0.208248                                -0.413564  1.127803   \n",
       "4                0.746946                                -0.630056 -0.520452   \n",
       "5                0.264147                                -0.652644  1.296290   \n",
       "6                0.179749                                 1.099543 -0.878514   \n",
       "7               -1.045476                                -0.986125 -0.694843   \n",
       "8               -0.986931                                -0.217496 -0.691505   \n",
       "9               -1.010439                                -0.633653 -0.766887   \n",
       "10              -1.137583                                 0.253524 -1.043505   \n",
       "\n",
       "      angle2  \n",
       "1  -0.050999  \n",
       "2   1.640105  \n",
       "3   1.186186  \n",
       "4   0.978628  \n",
       "5   0.273104  \n",
       "6  -0.835109  \n",
       "7  -0.529692  \n",
       "8  -0.553315  \n",
       "9  -0.630051  \n",
       "10 -1.478856  "
      ]
     },
     "execution_count": 120,
     "metadata": {},
     "output_type": "execute_result"
    }
   ],
   "source": [
    "dt = (df - df.mean(axis=0)) / (df.std(axis=0))  # pour la standardisation de la dataframe\n",
    "dt"
   ]
  },
  {
   "cell_type": "code",
   "execution_count": 121,
   "id": "015a772c",
   "metadata": {},
   "outputs": [
    {
     "data": {
      "text/plain": [
       "Personne                                   0.000000e+00\n",
       "Vitesse quadratique moyenne                1.387779e-16\n",
       "Accéleration quadratique moyenne           4.718448e-17\n",
       "centre de masse moyen                     -1.332268e-16\n",
       "acceleration de centre de masse moyenne    2.942091e-16\n",
       "angle1                                     2.220446e-17\n",
       "angle2                                     1.110223e-16\n",
       "dtype: float64"
      ]
     },
     "execution_count": 121,
     "metadata": {},
     "output_type": "execute_result"
    }
   ],
   "source": [
    "dt.mean(axis=0) "
   ]
  },
  {
   "cell_type": "code",
   "execution_count": 122,
   "id": "b7d0360b",
   "metadata": {},
   "outputs": [
    {
     "data": {
      "text/plain": [
       "Personne                                   1.0\n",
       "Vitesse quadratique moyenne                1.0\n",
       "Accéleration quadratique moyenne           1.0\n",
       "centre de masse moyen                      1.0\n",
       "acceleration de centre de masse moyenne    1.0\n",
       "angle1                                     1.0\n",
       "angle2                                     1.0\n",
       "dtype: float64"
      ]
     },
     "execution_count": 122,
     "metadata": {},
     "output_type": "execute_result"
    }
   ],
   "source": [
    "dt.std(axis=0) #Les écartypes des colonnes sont bien égales à 1"
   ]
  },
  {
   "cell_type": "markdown",
   "id": "cb9522a0",
   "metadata": {},
   "source": [
    "# Apprentissage non supervisé\n",
    "## Application du modéle KMeans"
   ]
  },
  {
   "cell_type": "code",
   "execution_count": 123,
   "id": "71e8bd6f",
   "metadata": {},
   "outputs": [],
   "source": [
    "from sklearn.cluster import KMeans\n",
    "from sklearn.model_selection import train_test_split\n",
    "from sklearn.linear_model import LogisticRegression"
   ]
  },
  {
   "cell_type": "code",
   "execution_count": 124,
   "id": "57fc4809",
   "metadata": {},
   "outputs": [
    {
     "data": {
      "text/plain": [
       "KMeans(n_clusters=2)"
      ]
     },
     "execution_count": 124,
     "metadata": {},
     "output_type": "execute_result"
    }
   ],
   "source": [
    "model = KMeans(n_clusters=2) #KMeans avec 2 groupes\n",
    "model.fit(dt) # fit du  Training set"
   ]
  },
  {
   "cell_type": "code",
   "execution_count": 125,
   "id": "050a8bfa",
   "metadata": {},
   "outputs": [
    {
     "data": {
      "text/plain": [
       "array([1, 1, 1, 1, 1, 0, 0, 0, 0, 0])"
      ]
     },
     "execution_count": 125,
     "metadata": {},
     "output_type": "execute_result"
    }
   ],
   "source": [
    "model.labels_  #affiche le numéro de cluster affectés aux groupes"
   ]
  },
  {
   "cell_type": "code",
   "execution_count": 126,
   "id": "5fd0ef04",
   "metadata": {},
   "outputs": [
    {
     "data": {
      "text/plain": [
       "(array([0, 1]), array([5, 5], dtype=int64))"
      ]
     },
     "execution_count": 126,
     "metadata": {},
     "output_type": "execute_result"
    }
   ],
   "source": [
    "np.unique(model.labels_,return_counts=True) #effectifs par groupe "
   ]
  },
  {
   "cell_type": "code",
   "execution_count": 127,
   "id": "1c56f77d",
   "metadata": {},
   "outputs": [
    {
     "data": {
      "text/plain": [
       "<seaborn.axisgrid.PairGrid at 0x1cf76f8f4c0>"
      ]
     },
     "execution_count": 127,
     "metadata": {},
     "output_type": "execute_result"
    },
    {
     "data": {
      "image/png": "[encoded data removed]",
      "text/plain": [
       "<Figure size 1302.38x1260 with 56 Axes>"
      ]
     },
     "metadata": {
      "needs_background": "light"
     },
     "output_type": "display_data"
    }
   ],
   "source": [
    "c=df.copy()\n",
    "c['labels']=model.labels_\n",
    "sns.pairplot(c,hue=\"labels\")  #colorier les points dans le pairplot selon la classe"
   ]
  },
  {
   "cell_type": "markdown",
   "id": "bcc6d5f4",
   "metadata": {},
   "source": [
    "# Apprentissage supervisé"
   ]
  },
  {
   "cell_type": "code",
   "execution_count": 204,
   "id": "83d325fb",
   "metadata": {},
   "outputs": [],
   "source": [
    "# Ajout de la colonne classe, qui sera le target dans notre apprentissage\n",
    "# 1 : indique malade \n",
    "# 0 : indique sain\n",
    "\n",
    "classe=[1, 1, 1, 1, 1, 0, 0, 0, 0, 0 ]"
   ]
  },
  {
   "cell_type": "code",
   "execution_count": 205,
   "id": "ffae299e",
   "metadata": {},
   "outputs": [
    {
     "data": {
      "text/html": [
       "<div>\n",
       "<style scoped>\n",
       "    .dataframe tbody tr th:only-of-type {\n",
       "        vertical-align: middle;\n",
       "    }\n",
       "\n",
       "    .dataframe tbody tr th {\n",
       "        vertical-align: top;\n",
       "    }\n",
       "\n",
       "    .dataframe thead th {\n",
       "        text-align: right;\n",
       "    }\n",
       "</style>\n",
       "<table border=\"1\" class=\"dataframe\">\n",
       "  <thead>\n",
       "    <tr style=\"text-align: right;\">\n",
       "      <th></th>\n",
       "      <th>Personne</th>\n",
       "      <th>Vitesse quadratique moyenne</th>\n",
       "      <th>Accéleration quadratique moyenne</th>\n",
       "      <th>centre de masse moyen</th>\n",
       "      <th>acceleration de centre de masse moyenne</th>\n",
       "      <th>angle1</th>\n",
       "      <th>angle2</th>\n",
       "      <th>vitesse angulaire moyenne</th>\n",
       "      <th>acceleration angulaire moyenne</th>\n",
       "      <th>vitesse de centre de masse moyenne</th>\n",
       "      <th>classe</th>\n",
       "    </tr>\n",
       "  </thead>\n",
       "  <tbody>\n",
       "    <tr>\n",
       "      <th>1</th>\n",
       "      <td>1</td>\n",
       "      <td>0.088129</td>\n",
       "      <td>0.372414</td>\n",
       "      <td>2.545982</td>\n",
       "      <td>0.181312</td>\n",
       "      <td>4.944462</td>\n",
       "      <td>7.220784</td>\n",
       "      <td>0.386356</td>\n",
       "      <td>2.007141</td>\n",
       "      <td>4.591797e-02</td>\n",
       "      <td>1</td>\n",
       "    </tr>\n",
       "    <tr>\n",
       "      <th>2</th>\n",
       "      <td>2</td>\n",
       "      <td>0.169050</td>\n",
       "      <td>1.172249</td>\n",
       "      <td>2.759956</td>\n",
       "      <td>0.408659</td>\n",
       "      <td>6.560443</td>\n",
       "      <td>23.111439</td>\n",
       "      <td>0.512856</td>\n",
       "      <td>6.947285</td>\n",
       "      <td>8.859517e-02</td>\n",
       "      <td>1</td>\n",
       "    </tr>\n",
       "    <tr>\n",
       "      <th>3</th>\n",
       "      <td>3</td>\n",
       "      <td>0.080234</td>\n",
       "      <td>0.285283</td>\n",
       "      <td>1.823912</td>\n",
       "      <td>0.153858</td>\n",
       "      <td>6.255955</td>\n",
       "      <td>18.846133</td>\n",
       "      <td>0.307484</td>\n",
       "      <td>1.369508</td>\n",
       "      <td>3.473456e-02</td>\n",
       "      <td>1</td>\n",
       "    </tr>\n",
       "    <tr>\n",
       "      <th>4</th>\n",
       "      <td>4</td>\n",
       "      <td>0.042772</td>\n",
       "      <td>0.204505</td>\n",
       "      <td>2.201621</td>\n",
       "      <td>0.133541</td>\n",
       "      <td>-13.505002</td>\n",
       "      <td>16.895792</td>\n",
       "      <td>0.273512</td>\n",
       "      <td>1.325051</td>\n",
       "      <td>3.016698e-02</td>\n",
       "      <td>1</td>\n",
       "    </tr>\n",
       "    <tr>\n",
       "      <th>5</th>\n",
       "      <td>5</td>\n",
       "      <td>0.099894</td>\n",
       "      <td>0.282096</td>\n",
       "      <td>1.863105</td>\n",
       "      <td>0.131421</td>\n",
       "      <td>8.275950</td>\n",
       "      <td>10.266255</td>\n",
       "      <td>0.386053</td>\n",
       "      <td>1.449011</td>\n",
       "      <td>4.271759e-02</td>\n",
       "      <td>1</td>\n",
       "    </tr>\n",
       "    <tr>\n",
       "      <th>6</th>\n",
       "      <td>6</td>\n",
       "      <td>0.140703</td>\n",
       "      <td>0.710858</td>\n",
       "      <td>1.803930</td>\n",
       "      <td>0.295859</td>\n",
       "      <td>-17.797816</td>\n",
       "      <td>-0.147203</td>\n",
       "      <td>0.715306</td>\n",
       "      <td>4.411140</td>\n",
       "      <td>1.037751e+20</td>\n",
       "      <td>0</td>\n",
       "    </tr>\n",
       "    <tr>\n",
       "      <th>7</th>\n",
       "      <td>7</td>\n",
       "      <td>0.040229</td>\n",
       "      <td>0.205397</td>\n",
       "      <td>0.944860</td>\n",
       "      <td>0.100124</td>\n",
       "      <td>-15.595779</td>\n",
       "      <td>2.722685</td>\n",
       "      <td>0.230641</td>\n",
       "      <td>1.089484</td>\n",
       "      <td>2.157021e-02</td>\n",
       "      <td>0</td>\n",
       "    </tr>\n",
       "    <tr>\n",
       "      <th>8</th>\n",
       "      <td>8</td>\n",
       "      <td>0.098592</td>\n",
       "      <td>0.319519</td>\n",
       "      <td>0.985909</td>\n",
       "      <td>0.172258</td>\n",
       "      <td>-15.555762</td>\n",
       "      <td>2.500706</td>\n",
       "      <td>0.389558</td>\n",
       "      <td>1.663755</td>\n",
       "      <td>4.719750e-02</td>\n",
       "      <td>0</td>\n",
       "    </tr>\n",
       "    <tr>\n",
       "      <th>9</th>\n",
       "      <td>9</td>\n",
       "      <td>0.091834</td>\n",
       "      <td>0.285275</td>\n",
       "      <td>0.969427</td>\n",
       "      <td>0.133203</td>\n",
       "      <td>-16.459523</td>\n",
       "      <td>1.779652</td>\n",
       "      <td>0.411154</td>\n",
       "      <td>1.260415</td>\n",
       "      <td>9.681205e+39</td>\n",
       "      <td>0</td>\n",
       "    </tr>\n",
       "    <tr>\n",
       "      <th>10</th>\n",
       "      <td>10</td>\n",
       "      <td>0.091292</td>\n",
       "      <td>0.374042</td>\n",
       "      <td>0.880279</td>\n",
       "      <td>0.216462</td>\n",
       "      <td>-19.775901</td>\n",
       "      <td>-6.196245</td>\n",
       "      <td>0.499045</td>\n",
       "      <td>2.193129</td>\n",
       "      <td>5.750383e+50</td>\n",
       "      <td>0</td>\n",
       "    </tr>\n",
       "  </tbody>\n",
       "</table>\n",
       "</div>"
      ],
      "text/plain": [
       "    Personne  Vitesse quadratique moyenne  Accéleration quadratique moyenne  \\\n",
       "1          1                     0.088129                          0.372414   \n",
       "2          2                     0.169050                          1.172249   \n",
       "3          3                     0.080234                          0.285283   \n",
       "4          4                     0.042772                          0.204505   \n",
       "5          5                     0.099894                          0.282096   \n",
       "6          6                     0.140703                          0.710858   \n",
       "7          7                     0.040229                          0.205397   \n",
       "8          8                     0.098592                          0.319519   \n",
       "9          9                     0.091834                          0.285275   \n",
       "10        10                     0.091292                          0.374042   \n",
       "\n",
       "    centre de masse moyen  acceleration de centre de masse moyenne     angle1  \\\n",
       "1                2.545982                                 0.181312   4.944462   \n",
       "2                2.759956                                 0.408659   6.560443   \n",
       "3                1.823912                                 0.153858   6.255955   \n",
       "4                2.201621                                 0.133541 -13.505002   \n",
       "5                1.863105                                 0.131421   8.275950   \n",
       "6                1.803930                                 0.295859 -17.797816   \n",
       "7                0.944860                                 0.100124 -15.595779   \n",
       "8                0.985909                                 0.172258 -15.555762   \n",
       "9                0.969427                                 0.133203 -16.459523   \n",
       "10               0.880279                                 0.216462 -19.775901   \n",
       "\n",
       "       angle2  vitesse angulaire moyenne  acceleration angulaire moyenne  \\\n",
       "1    7.220784                   0.386356                        2.007141   \n",
       "2   23.111439                   0.512856                        6.947285   \n",
       "3   18.846133                   0.307484                        1.369508   \n",
       "4   16.895792                   0.273512                        1.325051   \n",
       "5   10.266255                   0.386053                        1.449011   \n",
       "6   -0.147203                   0.715306                        4.411140   \n",
       "7    2.722685                   0.230641                        1.089484   \n",
       "8    2.500706                   0.389558                        1.663755   \n",
       "9    1.779652                   0.411154                        1.260415   \n",
       "10  -6.196245                   0.499045                        2.193129   \n",
       "\n",
       "    vitesse de centre de masse moyenne  classe  \n",
       "1                         4.591797e-02       1  \n",
       "2                         8.859517e-02       1  \n",
       "3                         3.473456e-02       1  \n",
       "4                         3.016698e-02       1  \n",
       "5                         4.271759e-02       1  \n",
       "6                         1.037751e+20       0  \n",
       "7                         2.157021e-02       0  \n",
       "8                         4.719750e-02       0  \n",
       "9                         9.681205e+39       0  \n",
       "10                        5.750383e+50       0  "
      ]
     },
     "execution_count": 205,
     "metadata": {},
     "output_type": "execute_result"
    }
   ],
   "source": [
    "df['classe']=classe\n",
    "df"
   ]
  },
  {
   "cell_type": "code",
   "execution_count": 130,
   "id": "55aff680",
   "metadata": {},
   "outputs": [],
   "source": [
    "# Partition de la base en target y (classe) et données x \n",
    "\n",
    "x = df.iloc[:, :-1].values\n",
    "y = df.iloc[:, -1].values\n",
    "\n",
    "#spliting the dataset into training and test set\n",
    "x_train, x_test, y_train, y_test = train_test_split(x, y, test_size=1/5, random_state=0)"
   ]
  },
  {
   "cell_type": "code",
   "execution_count": 131,
   "id": "891171ec",
   "metadata": {},
   "outputs": [],
   "source": [
    "y_train=model.fit(x_train) # fit du  Training set\n",
    "y_pred= model.predict(x_test) # tester le modéle en predire les targets test"
   ]
  },
  {
   "cell_type": "code",
   "execution_count": 132,
   "id": "2825fcb6",
   "metadata": {},
   "outputs": [
    {
     "name": "stdout",
     "output_type": "stream",
     "text": [
      "1.0\n"
     ]
    }
   ],
   "source": [
    "from sklearn.metrics import accuracy_score\n",
    "print(accuracy_score(y_test,y_pred)) # Performance du modéle"
   ]
  },
  {
   "cell_type": "code",
   "execution_count": 133,
   "id": "2b2d17fd",
   "metadata": {},
   "outputs": [
    {
     "data": {
      "text/plain": [
       "array([[1, 0],\n",
       "       [0, 1]], dtype=int64)"
      ]
     },
     "execution_count": 133,
     "metadata": {},
     "output_type": "execute_result"
    }
   ],
   "source": [
    "#matrice de confusion\n",
    "import sklearn\n",
    "sklearn.metrics.confusion_matrix(y_test, y_pred, labels=None, sample_weight=None, normalize=None)  "
   ]
  },
  {
   "cell_type": "code",
   "execution_count": 134,
   "id": "59f2e8c2",
   "metadata": {},
   "outputs": [
    {
     "data": {
      "text/plain": [
       "array([1, 0])"
      ]
     },
     "execution_count": 134,
     "metadata": {},
     "output_type": "execute_result"
    }
   ],
   "source": [
    "y_pred"
   ]
  },
  {
   "cell_type": "code",
   "execution_count": 135,
   "id": "4f9641bd",
   "metadata": {},
   "outputs": [
    {
     "data": {
      "text/plain": [
       "array([1, 0], dtype=int64)"
      ]
     },
     "execution_count": 135,
     "metadata": {},
     "output_type": "execute_result"
    }
   ],
   "source": [
    "y_test"
   ]
  },
  {
   "cell_type": "markdown",
   "id": "16632126",
   "metadata": {},
   "source": [
    "## Modéle SVM"
   ]
  },
  {
   "cell_type": "code",
   "execution_count": 136,
   "id": "03ee2eff",
   "metadata": {},
   "outputs": [
    {
     "data": {
      "text/html": [
       "<div>\n",
       "<style scoped>\n",
       "    .dataframe tbody tr th:only-of-type {\n",
       "        vertical-align: middle;\n",
       "    }\n",
       "\n",
       "    .dataframe tbody tr th {\n",
       "        vertical-align: top;\n",
       "    }\n",
       "\n",
       "    .dataframe thead th {\n",
       "        text-align: right;\n",
       "    }\n",
       "</style>\n",
       "<table border=\"1\" class=\"dataframe\">\n",
       "  <thead>\n",
       "    <tr style=\"text-align: right;\">\n",
       "      <th></th>\n",
       "      <th>Personne</th>\n",
       "      <th>Vitesse quadratique moyenne</th>\n",
       "      <th>Accéleration quadratique moyenne</th>\n",
       "      <th>centre de masse moyen</th>\n",
       "      <th>acceleration de centre de masse moyenne</th>\n",
       "      <th>angle1</th>\n",
       "      <th>angle2</th>\n",
       "      <th>classe</th>\n",
       "    </tr>\n",
       "  </thead>\n",
       "  <tbody>\n",
       "    <tr>\n",
       "      <th>1</th>\n",
       "      <td>1</td>\n",
       "      <td>0.088129</td>\n",
       "      <td>0.372414</td>\n",
       "      <td>2.545982</td>\n",
       "      <td>0.181312</td>\n",
       "      <td>4.944462</td>\n",
       "      <td>7.220784</td>\n",
       "      <td>1</td>\n",
       "    </tr>\n",
       "    <tr>\n",
       "      <th>2</th>\n",
       "      <td>2</td>\n",
       "      <td>0.169050</td>\n",
       "      <td>1.172249</td>\n",
       "      <td>2.759956</td>\n",
       "      <td>0.408659</td>\n",
       "      <td>6.560443</td>\n",
       "      <td>23.111439</td>\n",
       "      <td>1</td>\n",
       "    </tr>\n",
       "    <tr>\n",
       "      <th>3</th>\n",
       "      <td>3</td>\n",
       "      <td>0.080234</td>\n",
       "      <td>0.285283</td>\n",
       "      <td>1.823912</td>\n",
       "      <td>0.153858</td>\n",
       "      <td>6.255955</td>\n",
       "      <td>18.846133</td>\n",
       "      <td>1</td>\n",
       "    </tr>\n",
       "    <tr>\n",
       "      <th>4</th>\n",
       "      <td>4</td>\n",
       "      <td>0.042772</td>\n",
       "      <td>0.204505</td>\n",
       "      <td>2.201621</td>\n",
       "      <td>0.133541</td>\n",
       "      <td>-13.505002</td>\n",
       "      <td>16.895792</td>\n",
       "      <td>1</td>\n",
       "    </tr>\n",
       "    <tr>\n",
       "      <th>5</th>\n",
       "      <td>5</td>\n",
       "      <td>0.099894</td>\n",
       "      <td>0.282096</td>\n",
       "      <td>1.863105</td>\n",
       "      <td>0.131421</td>\n",
       "      <td>8.275950</td>\n",
       "      <td>10.266255</td>\n",
       "      <td>1</td>\n",
       "    </tr>\n",
       "    <tr>\n",
       "      <th>6</th>\n",
       "      <td>6</td>\n",
       "      <td>0.140703</td>\n",
       "      <td>0.710858</td>\n",
       "      <td>1.803930</td>\n",
       "      <td>0.295859</td>\n",
       "      <td>-17.797816</td>\n",
       "      <td>-0.147203</td>\n",
       "      <td>0</td>\n",
       "    </tr>\n",
       "    <tr>\n",
       "      <th>7</th>\n",
       "      <td>7</td>\n",
       "      <td>0.040229</td>\n",
       "      <td>0.205397</td>\n",
       "      <td>0.944860</td>\n",
       "      <td>0.100124</td>\n",
       "      <td>-15.595779</td>\n",
       "      <td>2.722685</td>\n",
       "      <td>0</td>\n",
       "    </tr>\n",
       "    <tr>\n",
       "      <th>8</th>\n",
       "      <td>8</td>\n",
       "      <td>0.098592</td>\n",
       "      <td>0.319519</td>\n",
       "      <td>0.985909</td>\n",
       "      <td>0.172258</td>\n",
       "      <td>-15.555762</td>\n",
       "      <td>2.500706</td>\n",
       "      <td>0</td>\n",
       "    </tr>\n",
       "    <tr>\n",
       "      <th>9</th>\n",
       "      <td>9</td>\n",
       "      <td>0.091834</td>\n",
       "      <td>0.285275</td>\n",
       "      <td>0.969427</td>\n",
       "      <td>0.133203</td>\n",
       "      <td>-16.459523</td>\n",
       "      <td>1.779652</td>\n",
       "      <td>0</td>\n",
       "    </tr>\n",
       "    <tr>\n",
       "      <th>10</th>\n",
       "      <td>10</td>\n",
       "      <td>0.091292</td>\n",
       "      <td>0.374042</td>\n",
       "      <td>0.880279</td>\n",
       "      <td>0.216462</td>\n",
       "      <td>-19.775901</td>\n",
       "      <td>-6.196245</td>\n",
       "      <td>0</td>\n",
       "    </tr>\n",
       "  </tbody>\n",
       "</table>\n",
       "</div>"
      ],
      "text/plain": [
       "    Personne  Vitesse quadratique moyenne  Accéleration quadratique moyenne  \\\n",
       "1          1                     0.088129                          0.372414   \n",
       "2          2                     0.169050                          1.172249   \n",
       "3          3                     0.080234                          0.285283   \n",
       "4          4                     0.042772                          0.204505   \n",
       "5          5                     0.099894                          0.282096   \n",
       "6          6                     0.140703                          0.710858   \n",
       "7          7                     0.040229                          0.205397   \n",
       "8          8                     0.098592                          0.319519   \n",
       "9          9                     0.091834                          0.285275   \n",
       "10        10                     0.091292                          0.374042   \n",
       "\n",
       "    centre de masse moyen  acceleration de centre de masse moyenne     angle1  \\\n",
       "1                2.545982                                 0.181312   4.944462   \n",
       "2                2.759956                                 0.408659   6.560443   \n",
       "3                1.823912                                 0.153858   6.255955   \n",
       "4                2.201621                                 0.133541 -13.505002   \n",
       "5                1.863105                                 0.131421   8.275950   \n",
       "6                1.803930                                 0.295859 -17.797816   \n",
       "7                0.944860                                 0.100124 -15.595779   \n",
       "8                0.985909                                 0.172258 -15.555762   \n",
       "9                0.969427                                 0.133203 -16.459523   \n",
       "10               0.880279                                 0.216462 -19.775901   \n",
       "\n",
       "       angle2  classe  \n",
       "1    7.220784       1  \n",
       "2   23.111439       1  \n",
       "3   18.846133       1  \n",
       "4   16.895792       1  \n",
       "5   10.266255       1  \n",
       "6   -0.147203       0  \n",
       "7    2.722685       0  \n",
       "8    2.500706       0  \n",
       "9    1.779652       0  \n",
       "10  -6.196245       0  "
      ]
     },
     "execution_count": 136,
     "metadata": {},
     "output_type": "execute_result"
    }
   ],
   "source": [
    "df"
   ]
  },
  {
   "cell_type": "code",
   "execution_count": 137,
   "id": "f34d09c5",
   "metadata": {},
   "outputs": [],
   "source": [
    "x = df.iloc[:, :-1].values\n",
    "y = df.iloc[:, -1].values\n",
    "\n",
    "#spliting the dataset into training and test set\n",
    "X_train, X_test, y_train, y_test = train_test_split(x, y, test_size=1/2, random_state=0)"
   ]
  },
  {
   "cell_type": "code",
   "execution_count": 138,
   "id": "d2e90f49",
   "metadata": {},
   "outputs": [],
   "source": [
    "# Fit du  Training set\n",
    "from sklearn.svm import SVC\n",
    "model2 = SVC(kernel = 'linear', random_state = 0)\n",
    "model2.fit(X_train, y_train)\n",
    "\n",
    "#Prediction sur le Test set\n",
    "y_pred = model2.predict(X_test)"
   ]
  },
  {
   "cell_type": "code",
   "execution_count": 139,
   "id": "b341d4db",
   "metadata": {},
   "outputs": [
    {
     "name": "stdout",
     "output_type": "stream",
     "text": [
      "1.0\n"
     ]
    }
   ],
   "source": [
    "print(accuracy_score(y_test,y_pred)) # Performance du modéle"
   ]
  },
  {
   "cell_type": "code",
   "execution_count": 140,
   "id": "51c008aa",
   "metadata": {},
   "outputs": [
    {
     "data": {
      "text/plain": [
       "array([[2, 0],\n",
       "       [0, 3]], dtype=int64)"
      ]
     },
     "execution_count": 140,
     "metadata": {},
     "output_type": "execute_result"
    }
   ],
   "source": [
    "#matrice de confusion\n",
    "import sklearn\n",
    "sklearn.metrics.confusion_matrix(y_test, y_pred, labels=None, sample_weight=None, normalize=None)"
   ]
  },
  {
   "cell_type": "code",
   "execution_count": 141,
   "id": "9829cf8c",
   "metadata": {},
   "outputs": [
    {
     "data": {
      "text/plain": [
       "array([1, 0, 1, 0, 1], dtype=int64)"
      ]
     },
     "execution_count": 141,
     "metadata": {},
     "output_type": "execute_result"
    }
   ],
   "source": [
    "y_pred"
   ]
  },
  {
   "cell_type": "code",
   "execution_count": 142,
   "id": "089cecf5",
   "metadata": {},
   "outputs": [
    {
     "data": {
      "text/plain": [
       "array([1, 0, 1, 0, 1], dtype=int64)"
      ]
     },
     "execution_count": 142,
     "metadata": {},
     "output_type": "execute_result"
    }
   ],
   "source": [
    "y_test"
   ]
  },
  {
   "cell_type": "markdown",
   "id": "0d87a9b4",
   "metadata": {},
   "source": [
    "## Modéle Regréssion Logistique"
   ]
  },
  {
   "cell_type": "code",
   "execution_count": 226,
   "id": "432fb8a4",
   "metadata": {},
   "outputs": [],
   "source": [
    "df['classe'] = [0,0,0,0,0,1,1,1,1,1]"
   ]
  },
  {
   "cell_type": "code",
   "execution_count": 227,
   "id": "d1933c1e",
   "metadata": {},
   "outputs": [
    {
     "data": {
      "text/html": [
       "<div>\n",
       "<style scoped>\n",
       "    .dataframe tbody tr th:only-of-type {\n",
       "        vertical-align: middle;\n",
       "    }\n",
       "\n",
       "    .dataframe tbody tr th {\n",
       "        vertical-align: top;\n",
       "    }\n",
       "\n",
       "    .dataframe thead th {\n",
       "        text-align: right;\n",
       "    }\n",
       "</style>\n",
       "<table border=\"1\" class=\"dataframe\">\n",
       "  <thead>\n",
       "    <tr style=\"text-align: right;\">\n",
       "      <th></th>\n",
       "      <th>Personne</th>\n",
       "      <th>Vitesse quadratique moyenne</th>\n",
       "      <th>Accéleration quadratique moyenne</th>\n",
       "      <th>centre de masse moyen</th>\n",
       "      <th>acceleration de centre de masse moyenne</th>\n",
       "      <th>angle1</th>\n",
       "      <th>angle2</th>\n",
       "      <th>vitesse angulaire moyenne</th>\n",
       "      <th>acceleration angulaire moyenne</th>\n",
       "      <th>vitesse de centre de masse moyenne</th>\n",
       "      <th>classe</th>\n",
       "    </tr>\n",
       "  </thead>\n",
       "  <tbody>\n",
       "    <tr>\n",
       "      <th>1</th>\n",
       "      <td>1</td>\n",
       "      <td>0.088129</td>\n",
       "      <td>0.372414</td>\n",
       "      <td>2.545982</td>\n",
       "      <td>0.181312</td>\n",
       "      <td>4.944462</td>\n",
       "      <td>7.220784</td>\n",
       "      <td>0.386356</td>\n",
       "      <td>2.007141</td>\n",
       "      <td>4.591797e-02</td>\n",
       "      <td>0</td>\n",
       "    </tr>\n",
       "    <tr>\n",
       "      <th>2</th>\n",
       "      <td>2</td>\n",
       "      <td>0.169050</td>\n",
       "      <td>1.172249</td>\n",
       "      <td>2.759956</td>\n",
       "      <td>0.408659</td>\n",
       "      <td>6.560443</td>\n",
       "      <td>23.111439</td>\n",
       "      <td>0.512856</td>\n",
       "      <td>6.947285</td>\n",
       "      <td>8.859517e-02</td>\n",
       "      <td>0</td>\n",
       "    </tr>\n",
       "    <tr>\n",
       "      <th>3</th>\n",
       "      <td>3</td>\n",
       "      <td>0.080234</td>\n",
       "      <td>0.285283</td>\n",
       "      <td>1.823912</td>\n",
       "      <td>0.153858</td>\n",
       "      <td>6.255955</td>\n",
       "      <td>18.846133</td>\n",
       "      <td>0.307484</td>\n",
       "      <td>1.369508</td>\n",
       "      <td>3.473456e-02</td>\n",
       "      <td>0</td>\n",
       "    </tr>\n",
       "    <tr>\n",
       "      <th>4</th>\n",
       "      <td>4</td>\n",
       "      <td>0.042772</td>\n",
       "      <td>0.204505</td>\n",
       "      <td>2.201621</td>\n",
       "      <td>0.133541</td>\n",
       "      <td>-13.505002</td>\n",
       "      <td>16.895792</td>\n",
       "      <td>0.273512</td>\n",
       "      <td>1.325051</td>\n",
       "      <td>3.016698e-02</td>\n",
       "      <td>0</td>\n",
       "    </tr>\n",
       "    <tr>\n",
       "      <th>5</th>\n",
       "      <td>5</td>\n",
       "      <td>0.099894</td>\n",
       "      <td>0.282096</td>\n",
       "      <td>1.863105</td>\n",
       "      <td>0.131421</td>\n",
       "      <td>8.275950</td>\n",
       "      <td>10.266255</td>\n",
       "      <td>0.386053</td>\n",
       "      <td>1.449011</td>\n",
       "      <td>4.271759e-02</td>\n",
       "      <td>0</td>\n",
       "    </tr>\n",
       "    <tr>\n",
       "      <th>6</th>\n",
       "      <td>6</td>\n",
       "      <td>0.140703</td>\n",
       "      <td>0.710858</td>\n",
       "      <td>1.803930</td>\n",
       "      <td>0.295859</td>\n",
       "      <td>-17.797816</td>\n",
       "      <td>-0.147203</td>\n",
       "      <td>0.715306</td>\n",
       "      <td>4.411140</td>\n",
       "      <td>1.037751e+20</td>\n",
       "      <td>1</td>\n",
       "    </tr>\n",
       "    <tr>\n",
       "      <th>7</th>\n",
       "      <td>7</td>\n",
       "      <td>0.040229</td>\n",
       "      <td>0.205397</td>\n",
       "      <td>0.944860</td>\n",
       "      <td>0.100124</td>\n",
       "      <td>-15.595779</td>\n",
       "      <td>2.722685</td>\n",
       "      <td>0.230641</td>\n",
       "      <td>1.089484</td>\n",
       "      <td>2.157021e-02</td>\n",
       "      <td>1</td>\n",
       "    </tr>\n",
       "    <tr>\n",
       "      <th>8</th>\n",
       "      <td>8</td>\n",
       "      <td>0.098592</td>\n",
       "      <td>0.319519</td>\n",
       "      <td>0.985909</td>\n",
       "      <td>0.172258</td>\n",
       "      <td>-15.555762</td>\n",
       "      <td>2.500706</td>\n",
       "      <td>0.389558</td>\n",
       "      <td>1.663755</td>\n",
       "      <td>4.719750e-02</td>\n",
       "      <td>1</td>\n",
       "    </tr>\n",
       "    <tr>\n",
       "      <th>9</th>\n",
       "      <td>9</td>\n",
       "      <td>0.091834</td>\n",
       "      <td>0.285275</td>\n",
       "      <td>0.969427</td>\n",
       "      <td>0.133203</td>\n",
       "      <td>-16.459523</td>\n",
       "      <td>1.779652</td>\n",
       "      <td>0.411154</td>\n",
       "      <td>1.260415</td>\n",
       "      <td>9.681205e+39</td>\n",
       "      <td>1</td>\n",
       "    </tr>\n",
       "    <tr>\n",
       "      <th>10</th>\n",
       "      <td>10</td>\n",
       "      <td>0.091292</td>\n",
       "      <td>0.374042</td>\n",
       "      <td>0.880279</td>\n",
       "      <td>0.216462</td>\n",
       "      <td>-19.775901</td>\n",
       "      <td>-6.196245</td>\n",
       "      <td>0.499045</td>\n",
       "      <td>2.193129</td>\n",
       "      <td>5.750383e+50</td>\n",
       "      <td>1</td>\n",
       "    </tr>\n",
       "  </tbody>\n",
       "</table>\n",
       "</div>"
      ],
      "text/plain": [
       "    Personne  Vitesse quadratique moyenne  Accéleration quadratique moyenne  \\\n",
       "1          1                     0.088129                          0.372414   \n",
       "2          2                     0.169050                          1.172249   \n",
       "3          3                     0.080234                          0.285283   \n",
       "4          4                     0.042772                          0.204505   \n",
       "5          5                     0.099894                          0.282096   \n",
       "6          6                     0.140703                          0.710858   \n",
       "7          7                     0.040229                          0.205397   \n",
       "8          8                     0.098592                          0.319519   \n",
       "9          9                     0.091834                          0.285275   \n",
       "10        10                     0.091292                          0.374042   \n",
       "\n",
       "    centre de masse moyen  acceleration de centre de masse moyenne     angle1  \\\n",
       "1                2.545982                                 0.181312   4.944462   \n",
       "2                2.759956                                 0.408659   6.560443   \n",
       "3                1.823912                                 0.153858   6.255955   \n",
       "4                2.201621                                 0.133541 -13.505002   \n",
       "5                1.863105                                 0.131421   8.275950   \n",
       "6                1.803930                                 0.295859 -17.797816   \n",
       "7                0.944860                                 0.100124 -15.595779   \n",
       "8                0.985909                                 0.172258 -15.555762   \n",
       "9                0.969427                                 0.133203 -16.459523   \n",
       "10               0.880279                                 0.216462 -19.775901   \n",
       "\n",
       "       angle2  vitesse angulaire moyenne  acceleration angulaire moyenne  \\\n",
       "1    7.220784                   0.386356                        2.007141   \n",
       "2   23.111439                   0.512856                        6.947285   \n",
       "3   18.846133                   0.307484                        1.369508   \n",
       "4   16.895792                   0.273512                        1.325051   \n",
       "5   10.266255                   0.386053                        1.449011   \n",
       "6   -0.147203                   0.715306                        4.411140   \n",
       "7    2.722685                   0.230641                        1.089484   \n",
       "8    2.500706                   0.389558                        1.663755   \n",
       "9    1.779652                   0.411154                        1.260415   \n",
       "10  -6.196245                   0.499045                        2.193129   \n",
       "\n",
       "    vitesse de centre de masse moyenne  classe  \n",
       "1                         4.591797e-02       0  \n",
       "2                         8.859517e-02       0  \n",
       "3                         3.473456e-02       0  \n",
       "4                         3.016698e-02       0  \n",
       "5                         4.271759e-02       0  \n",
       "6                         1.037751e+20       1  \n",
       "7                         2.157021e-02       1  \n",
       "8                         4.719750e-02       1  \n",
       "9                         9.681205e+39       1  \n",
       "10                        5.750383e+50       1  "
      ]
     },
     "execution_count": 227,
     "metadata": {},
     "output_type": "execute_result"
    }
   ],
   "source": [
    "df"
   ]
  },
  {
   "cell_type": "code",
   "execution_count": 228,
   "id": "b8dd37bc",
   "metadata": {},
   "outputs": [],
   "source": [
    "x = df.iloc[:, :-1].values\n",
    "y = df.iloc[:, -1].values\n",
    "\n",
    "#spliting the dataset into training and test set\n",
    "X_train, X_test, y_train, y_test = train_test_split(x, y)"
   ]
  },
  {
   "cell_type": "code",
   "execution_count": 229,
   "id": "2001a664",
   "metadata": {},
   "outputs": [],
   "source": [
    "model3 = LogisticRegression (tol =0.1)"
   ]
  },
  {
   "cell_type": "code",
   "execution_count": 230,
   "id": "580939c7",
   "metadata": {},
   "outputs": [
    {
     "name": "stderr",
     "output_type": "stream",
     "text": [
      "C:\\Users\\Eya\\anaconda3\\lib\\site-packages\\sklearn\\linear_model\\_logistic.py:814: ConvergenceWarning: lbfgs failed to converge (status=2):\n",
      "ABNORMAL_TERMINATION_IN_LNSRCH.\n",
      "\n",
      "Increase the number of iterations (max_iter) or scale the data as shown in:\n",
      "    https://scikit-learn.org/stable/modules/preprocessing.html\n",
      "Please also refer to the documentation for alternative solver options:\n",
      "    https://scikit-learn.org/stable/modules/linear_model.html#logistic-regression\n",
      "  n_iter_i = _check_optimize_result(\n"
     ]
    },
    {
     "data": {
      "text/plain": [
       "LogisticRegression(tol=0.1)"
      ]
     },
     "execution_count": 230,
     "metadata": {},
     "output_type": "execute_result"
    }
   ],
   "source": [
    "model3.fit(X_train,y_train)"
   ]
  },
  {
   "cell_type": "code",
   "execution_count": 231,
   "id": "c8bbcb34",
   "metadata": {},
   "outputs": [
    {
     "data": {
      "text/plain": [
       "array([0, 0, 0], dtype=int64)"
      ]
     },
     "execution_count": 231,
     "metadata": {},
     "output_type": "execute_result"
    }
   ],
   "source": [
    "y_predict=model3.predict(X_test)\n",
    "y_predict"
   ]
  },
  {
   "cell_type": "code",
   "execution_count": 232,
   "id": "892191b4",
   "metadata": {},
   "outputs": [
    {
     "data": {
      "text/plain": [
       "array([1, 0, 0], dtype=int64)"
      ]
     },
     "execution_count": 232,
     "metadata": {},
     "output_type": "execute_result"
    }
   ],
   "source": [
    "y_test = np.array(y_test)\n",
    "y_test"
   ]
  },
  {
   "cell_type": "code",
   "execution_count": 233,
   "id": "74ea173b",
   "metadata": {},
   "outputs": [
    {
     "name": "stdout",
     "output_type": "stream",
     "text": [
      "0.6666666666666666\n"
     ]
    }
   ],
   "source": [
    "print(accuracy_score(y_test,y_predict)) # Performance du modéle"
   ]
  },
  {
   "cell_type": "code",
   "execution_count": 234,
   "id": "45ca29c4",
   "metadata": {},
   "outputs": [
    {
     "data": {
      "text/plain": [
       "array([[2, 0],\n",
       "       [1, 0]], dtype=int64)"
      ]
     },
     "execution_count": 234,
     "metadata": {},
     "output_type": "execute_result"
    }
   ],
   "source": [
    "#matrice de confusion\n",
    "import sklearn\n",
    "sklearn.metrics.confusion_matrix(y_test, y_predict,  labels=None, sample_weight=None, normalize=None)"
   ]
  },
  {
   "cell_type": "code",
   "execution_count": 235,
   "id": "0303831c",
   "metadata": {},
   "outputs": [
    {
     "data": {
      "text/plain": [
       "array([0, 0, 0], dtype=int64)"
      ]
     },
     "execution_count": 235,
     "metadata": {},
     "output_type": "execute_result"
    }
   ],
   "source": [
    "y_predict"
   ]
  },
  {
   "cell_type": "code",
   "execution_count": 236,
   "id": "5eee72e4",
   "metadata": {},
   "outputs": [
    {
     "data": {
      "text/plain": [
       "array([1, 0, 0], dtype=int64)"
      ]
     },
     "execution_count": 236,
     "metadata": {},
     "output_type": "execute_result"
    }
   ],
   "source": [
    "y_test"
   ]
  },
  {
   "cell_type": "code",
   "execution_count": null,
   "id": "c5cb07ec",
   "metadata": {},
   "outputs": [],
   "source": []
  }
 ],
 "metadata": {
  "kernelspec": {
   "display_name": "Python 3 (ipykernel)",
   "language": "python",
   "name": "python3"
  },
  "language_info": {
   "codemirror_mode": {
    "name": "ipython",
    "version": 3
   },
   "file_extension": ".py",
   "mimetype": "text/x-python",
   "name": "python",
   "nbconvert_exporter": "python",
   "pygments_lexer": "ipython3",
   "version": "3.9.12"
  }
 },
 "nbformat": 4,
 "nbformat_minor": 5
}
