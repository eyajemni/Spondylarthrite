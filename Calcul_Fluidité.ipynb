{
 "cells": [
  {
   "cell_type": "code",
   "execution_count": 1,
   "id": "0dd21a72",
   "metadata": {},
   "outputs": [],
   "source": [
    "import os\n",
    "os.chdir('C:/Users/Eya/Desktop/My codes')\n",
    "import numpy as np\n",
    "import pandas as pd\n",
    "import seaborn as sns\n",
    "import matplotlib.pyplot as plt\n",
    "import numpy as np\n",
    "import sys\n",
    "from scipy.signal import butter, filtfilt, freqz, buttord\n",
    "\n",
    "from smoothness_2 import sparc\n",
    "from smoothness_2 import dimensionless_jerk2\n",
    "from smoothness import spectral_arclength\n",
    "from smoothness import dimensionless_jerk\n",
    "from for_paper import plot_different_tasks\n",
    "from mouvements import data_span\n",
    "\n",
    "from pylab import *\n",
    "from scipy import misc"
   ]
  },
  {
   "cell_type": "code",
   "execution_count": 2,
   "id": "9a1998e3",
   "metadata": {},
   "outputs": [],
   "source": [
    "def Fluidité (file) :\n",
    "    #Création du nom des colonnes en une liste\n",
    "    Frame,Pelvis_x,Pelvis_y,Pelvis_z,L5_x,L5_y,L5_z,L3_x,L3_y,L3_z,T12_x,T12_y,T12_z,T8_x,T8_y,T8_z,Neck_x,Neck_y,Neck_z,Head_x,Head_y,Head_z,R_Shou_x,R_Shou_y,R_Shou_z,R_U_Arm_x,R_U_Arm_y,R_U_Arm_z,R_F_Arm_x,R_F_Arm_y,R_F_Arm_z,R_Hand_x,R_Hand_y,R_Hand_z,L_Shou_x,L_Shou_y,L_Shou_z,L_U_Arm_x,L_U_Arm_y,L_U_Arm_z,L_F_Arm_x,L_F_Arm_y,L_F_Arm_z,L_Hand_x,L_Hand_y,L_Hand_z,R_U_Leg_x,R_U_Leg_y,R_U_Leg_z,R_L_Leg_x,R_L_Leg_y,R_L_Leg_z,R_Foot_x,R_Foot_y,R_Foot_z,R_Toe_x,R_Toe_y,R_Toe_z,L_U_Leg_x,L_U_Leg_y,L_U_Leg_z,L_L_Leg_x,L_L_Leg_y,L_L_Leg_z,L_Foot_x,L_Foot_y,L_Foot_z,L_Toe_x,L_Toe_y,L_Toe_z = ([] for i in range (70))\n",
    "                       \n",
    "    L =[Frame,Pelvis_x,Pelvis_y,Pelvis_z,L5_x,L5_y,L5_z,L3_x,L3_y,L3_z,T12_x,T12_y,T12_z,T8_x,T8_y,T8_z,Neck_x,Neck_y,Neck_z,Head_x,Head_y,Head_z,R_Shou_x,R_Shou_y,R_Shou_z,R_U_Arm_x,R_U_Arm_y,R_U_Arm_z,R_F_Arm_x,R_F_Arm_y,R_F_Arm_z,R_Hand_x,R_Hand_y,R_Hand_z,L_Shou_x,L_Shou_y,L_Shou_z,L_U_Arm_x,L_U_Arm_y,L_U_Arm_z,L_F_Arm_x,L_F_Arm_y,L_F_Arm_z,L_Hand_x,L_Hand_y,L_Hand_z,R_U_Leg_x,R_U_Leg_y,R_U_Leg_z,R_L_Leg_x,R_L_Leg_y,R_L_Leg_z,R_Foot_x,R_Foot_y,R_Foot_z,R_Toe_x,R_Toe_y,R_Toe_z,L_U_Leg_x,L_U_Leg_y,L_U_Leg_z,L_L_Leg_x,L_L_Leg_y,L_L_Leg_z,L_Foot_x,L_Foot_y,L_Foot_z,L_Toe_x,L_Toe_y,L_Toe_z]\n",
    "\n",
    "\n",
    "\n",
    "    for i in range (70):\n",
    "        L[i]=file.loc[:,file.columns[i]]\n",
    "    for i in range (len(L)) :\n",
    "        L[i]= np.array (L[i])\n",
    "    \n",
    "\n",
    "\n",
    "    #Calculation of the spectral arc length\n",
    "    Fluidité = 0 \n",
    "    fs = 60\n",
    "\n",
    "    for i in range (1,24):\n",
    "        SAL_x = spectral_arclength(L[i], fs)[0] \n",
    "        SAL_y = spectral_arclength(L[i+1], fs)[0]\n",
    "        SAL_z = spectral_arclength(L[i+2], fs)[0]\n",
    "        F = ( SAL_x**2 + SAL_y**2 + SAL_z**2 ) /23\n",
    "        Fluidité += F\n",
    "        \n",
    "    return Fluidité"
   ]
  },
  {
   "cell_type": "code",
   "execution_count": 3,
   "id": "9f0a7f70",
   "metadata": {},
   "outputs": [
    {
     "name": "stdout",
     "output_type": "stream",
     "text": [
      "18.544495447816086\n"
     ]
    }
   ],
   "source": [
    "file =pd.read_excel('C:/Users/Eya/Desktop/Xsens/LOMBALGIE/SUJETS_SAINS/thierry/thierry-002.xlsx', sheet_name =\"Segment Position\")\n",
    "\n",
    "print (Fluidité(file))"
   ]
  }
 ],
 "metadata": {
  "kernelspec": {
   "display_name": "Python 3 (ipykernel)",
   "language": "python",
   "name": "python3"
  },
  "language_info": {
   "codemirror_mode": {
    "name": "ipython",
    "version": 3
   },
   "file_extension": ".py",
   "mimetype": "text/x-python",
   "name": "python",
   "nbconvert_exporter": "python",
   "pygments_lexer": "ipython3",
   "version": "3.9.12"
  }
 },
 "nbformat": 4,
 "nbformat_minor": 5
}
